{
 "cells": [
  {
   "cell_type": "markdown",
   "metadata": {
    "id": "DDJwQPZcupab"
   },
   "source": [
    "# EECS 498-007/598-005 Assignment 4-1: Pytorch Autograd and NN\n",
    "\n",
    "Before we start, please put your name and UMID in following format\n",
    "\n",
    ": Firstname LASTNAME, #00000000   //   e.g.) Justin JOHNSON, #12345678"
   ]
  },
  {
   "cell_type": "markdown",
   "metadata": {
    "id": "2KMxqLt1h2kx"
   },
   "source": [
    "**Your Answer:**   \n",
    "Hello WORLD, #XXXXXXXX"
   ]
  },
  {
   "cell_type": "markdown",
   "metadata": {
    "id": "aQW_w1Wzw72f",
    "tags": [
     "pdf-title"
    ]
   },
   "source": [
    "# [torch.autograd](https://pytorch.org/docs/stable/autograd.html) and [torch.nn](https://pytorch.org/docs/stable/nn.html)\n",
    "\n",
    "So far, we used PyTorch to accelarate computation using GPU.\n",
    "PyTorch also provides several useful packages, which help to design deep neural networks efficiently.\n",
    "\n",
    "The `torch.autograd` package provides classes and functions implementing automatic differentiation of arbitrary scalar valued functions.\n",
    "\n",
    "This notebook assumes that you are using **PyTorch version 1.3 or above**.\n",
    "In some of the previous versions (e.g. before 0.4), Tensors had to be wrapped in `torch.autograd.Variable` objects to enable autograd;\n",
    "however this class has now been deprecated and merged with `torch.Tensor`.\n",
    "In addition 1.0 also separates a Tensor's datatype from its device, and uses numpy-style factories for constructing Tensors rather than directly invoking Tensor constructors.\n",
    "Now, to obtain gradients for a tensor via autograd from arbitrary scalar valued functions, you can simply set `requires_grad=True`.\n",
    "\n",
    "The `torch.nn` package defines a set of Modules, which you can think of as a neural network layer that has produces output from input and may have some trainable weights.\n",
    "\n",
    "You can also find the detailed [API doc](http://pytorch.org/docs/stable/index.html) here.\n",
    "If you have other questions that are not addressed by the API docs, the [PyTorch forum](https://discuss.pytorch.org/) is a much better place to ask than StackOverflow.\n"
   ]
  },
  {
   "cell_type": "markdown",
   "metadata": {
    "id": "ED0jpoGyIL_B",
    "tags": [
     "pdf-ignore"
    ]
   },
   "source": [
    "# Table of Contents\n",
    "\n",
    "This assignment has 5 parts. You will learn PyTorch on **three different levels of abstraction**, which will help you understand it better.\n",
    "\n",
    "1. Part I, Preparation: As we always do, we will use CIFAR-10 dataset.\n",
    "2. Part II, Barebones PyTorch: **Abstraction level 1**, we will work directly with the lowest-level PyTorch Tensors with autograd.\n",
    "3. Part III, PyTorch Module API: **Abstraction level 2**, we will use `nn.Module` to define an arbitrary neural network architecture. \n",
    "4. Part IV, PyTorch Sequential API: **Abstraction level 3**, we will use `nn.Sequential` to define a fully-connected and convolutional network very conveniently. \n",
    "5. Part V, Residual Network: please implement your own ResNet to get a high accuracy on CIFAR-10.\n",
    "\n",
    "Here is a table of comparison:\n",
    "\n",
    "| API             | Flexibility | Convenience |\n",
    "|-----------------|-------------|-------------|\n",
    "| Barebone        | High        | Low         |\n",
    "| `nn.Module`     | High        | Medium      |\n",
    "| `nn.Sequential` | Low         | High        |"
   ]
  },
  {
   "cell_type": "markdown",
   "metadata": {
    "id": "7LCmGZ_3IL_V"
   },
   "source": [
    "# Part I. Preparation"
   ]
  },
  {
   "cell_type": "markdown",
   "metadata": {
    "id": "LF27fWejyir5"
   },
   "source": []
  },
  {
   "cell_type": "markdown",
   "metadata": {
    "id": "ubB_0e-UAOVK"
   },
   "source": [
    "Before getting started we need to run some boilerplate code to set up our environment. You'll need to rerun this setup code each time you start the notebook.\n",
    "\n",
    "First, run this cell load the [autoreload](https://ipython.readthedocs.io/en/stable/config/extensions/autoreload.html?highlight=autoreload) extension. This allows us to edit `.py` source files, and re-import them into the notebook for a seamless editing and debugging experience."
   ]
  },
  {
   "cell_type": "code",
   "execution_count": 1,
   "metadata": {
    "id": "ASkY27ZtA7Is"
   },
   "outputs": [],
   "source": [
    "%load_ext autoreload\n",
    "%autoreload 2"
   ]
  },
  {
   "cell_type": "markdown",
   "metadata": {
    "id": "rseA2LOaXlpf"
   },
   "source": [
    "### Google Colab Setup\n",
    "\n",
    "Next we need to run a few commands to set up our environment on Google Colab. If you are running this notebook on a local machine you can skip this section.\n",
    "\n",
    "Run the following cell to mount your Google Drive. Follow the link, sign in to your Google account (the same account you used to store this notebook!) and copy the authorization code into the text box that appears below."
   ]
  },
  {
   "cell_type": "code",
   "execution_count": 2,
   "metadata": {
    "id": "qXyYCFDnXkee"
   },
   "outputs": [],
   "source": [
    "# from google.colab import drive\n",
    "# drive.mount('/content/drive')"
   ]
  },
  {
   "cell_type": "markdown",
   "metadata": {
    "id": "A3ITvb-mXyCs"
   },
   "source": [
    "Now recall the path in your Google Drive where you uploaded this notebook, fill it in below. If everything is working correctly then running the folowing cell should print the filenames from the assignment:\n",
    "\n",
    "```\n",
    "['eecs598', 'network_visualization.py', 'style_transfer.py',  'network_visualization.ipynb', 'a4_helper.py', 'pytorch_autograd_and_nn.py', 'pytorch_autograd_and_nn.ipynb', 'style_transfer.ipynb', 'rnn_lstm_attention_captioning.ipynb',  'rnn_lstm_attention_captioning.py']\n",
    "```"
   ]
  },
  {
   "cell_type": "code",
   "execution_count": 3,
   "metadata": {
    "id": "BMop7WhzX5GT"
   },
   "outputs": [],
   "source": [
    "import os\n",
    "\n",
    "# # TODO: Fill in the Google Drive path where you uploaded the assignment\n",
    "# # Example: If you create a 2020FA folder and put all the files under A1 folder, then '2020FA/A1'\n",
    "# GOOGLE_DRIVE_PATH_AFTER_MYDRIVE = None\n",
    "# GOOGLE_DRIVE_PATH = os.path.join('drive', 'My Drive', GOOGLE_DRIVE_PATH_AFTER_MYDRIVE)\n",
    "# print(os.listdir(GOOGLE_DRIVE_PATH))"
   ]
  },
  {
   "cell_type": "markdown",
   "metadata": {
    "id": "t8MhujYNbSir"
   },
   "source": [
    "Once you have successfully mounted your Google Drive and located the path to this assignment, run th following cell to allow us to import from the `.py` files of this assignment. If it works correctly, it should print the message:\n",
    "\n",
    "```\n",
    "Hello from pytorch_autograd_and_nn.py!\n",
    "```\n",
    "\n",
    "as well as the last edit time for the file `pytorch_autograd_and_nn.py`."
   ]
  },
  {
   "cell_type": "code",
   "execution_count": 4,
   "metadata": {
    "id": "pGJoaRyybcka"
   },
   "outputs": [
    {
     "name": "stdout",
     "output_type": "stream",
     "text": [
      "Hello from pytorch_autograd_and_nn.py!\n"
     ]
    }
   ],
   "source": [
    "# import sys\n",
    "# sys.path.append(GOOGLE_DRIVE_PATH)\n",
    "\n",
    "# import time, os\n",
    "# os.environ[\"TZ\"] = \"US/Eastern\"\n",
    "# time.tzset()\n",
    "\n",
    "from pytorch_autograd_and_nn import *\n",
    "from a4_helper import *\n",
    "hello()\n",
    "\n",
    "# py_path = os.path.join(GOOGLE_DRIVE_PATH, 'pytorch_autograd_and_nn.py')\n",
    "# py_edit_time = time.ctime(os.path.getmtime(py_path))\n",
    "# print('pytorch_autograd_and_nn.py last edited on %s' % py_edit_time)"
   ]
  },
  {
   "cell_type": "markdown",
   "metadata": {
    "id": "MzqbYcKdz6ew"
   },
   "source": [
    "### Load Packages\n",
    "\n",
    "Run some setup code for this notebook: Import some useful packages and increase the default figure size."
   ]
  },
  {
   "cell_type": "code",
   "execution_count": 5,
   "metadata": {
    "id": "Q8o3FxatIL_X",
    "tags": [
     "pdf-ignore"
    ]
   },
   "outputs": [],
   "source": [
    "import torch\n",
    "import torch.nn as nn\n",
    "import torch.nn.functional as F\n",
    "import torch.optim as optim\n",
    "from eecs598.utils import reset_seed\n",
    "from collections import OrderedDict\n",
    "\n",
    "# for plotting\n",
    "import matplotlib.pyplot as plt\n",
    "plt.rcParams['figure.figsize'] = (10.0, 8.0) # set default size of plots\n",
    "plt.rcParams['image.interpolation'] = 'nearest'\n",
    "plt.rcParams['image.cmap'] = 'gray'\n",
    "\n",
    "%matplotlib inline"
   ]
  },
  {
   "cell_type": "markdown",
   "metadata": {
    "id": "xcPWzzO3gVE2"
   },
   "source": [
    "We will use the GPU to accelerate our computation. Run this cell to make sure you are using a GPU.\n",
    "\n",
    "We will be using `torch.float = torch.float32` for data and `torch.long = torch.int64` for labels.\n",
    "\n",
    "Please refer to https://pytorch.org/docs/stable/tensor_attributes.html#torch-dtype for more details about data types."
   ]
  },
  {
   "cell_type": "code",
   "execution_count": 6,
   "metadata": {
    "id": "blz1sXlkIL_q",
    "tags": [
     "pdf-ignore-input"
    ]
   },
   "outputs": [
    {
     "name": "stdout",
     "output_type": "stream",
     "text": [
      "Good to go!\n"
     ]
    }
   ],
   "source": [
    "to_float= torch.float\n",
    "to_long = torch.long\n",
    "\n",
    "if torch.cuda.is_available:\n",
    "  print('Good to go!')\n",
    "else:\n",
    "  print('Please set GPU via Edit -> Notebook Settings.')"
   ]
  },
  {
   "cell_type": "markdown",
   "metadata": {
    "id": "UnprYqtnfzzE"
   },
   "source": [
    "### Load CIFAR\n",
    "Firstly, we will load the CIFAR-10 dataset. The utility function `load_CIFAR()` in `a4_helper` returns training, validaton and testing dataloaders for CIFAR-10 dataset. We are using [torchvision.datasets.CIFAR10](https://pytorch.org/docs/stable/torchvision/datasets.html?highlight=cifar#torchvision.datasets.CIFAR10) to download the CIFAR-10 dataset."
   ]
  },
  {
   "cell_type": "code",
   "execution_count": 7,
   "metadata": {
    "id": "-XB6NUX0IL_f",
    "tags": [
     "pdf-ignore"
    ]
   },
   "outputs": [
    {
     "name": "stdout",
     "output_type": "stream",
     "text": [
      "Files already downloaded and verified\n",
      "Files already downloaded and verified\n",
      "Files already downloaded and verified\n"
     ]
    }
   ],
   "source": [
    "loader_train, loader_val, loader_test = load_CIFAR(path='./datasets/')"
   ]
  },
  {
   "cell_type": "markdown",
   "metadata": {
    "id": "mazLauPlIL_5"
   },
   "source": [
    "# Part II. Barebones PyTorch\n",
    "\n",
    "PyTorch ships with high-level APIs to help us define model architectures conveniently, which we will cover in Part II of this tutorial. In this section, we will start with the barebone PyTorch elements to understand the autograd engine better. After this exercise, you will come to appreciate the high-level model API more.\n",
    "\n",
    "We will start with a simple fully-connected ReLU network with two hidden layers and no biases for CIFAR classification. \n",
    "This implementation computes the forward pass using operations on PyTorch Tensors, and uses PyTorch autograd to compute gradients. It is important that you understand every line, because you will write a harder version after the example.\n",
    "\n",
    "When we create a PyTorch Tensor with `requires_grad=True`, then operations involving that Tensor will not just compute values; they will also build up a computational graph in the background, allowing us to easily backpropagate through the graph to compute gradients of some Tensors with respect to a downstream loss. Concretely, if `x` is a Tensor with `x.requires_grad == True` then after backpropagation `x.grad` will be another Tensor holding the gradient of `x` with respect to the scalar loss at the end."
   ]
  },
  {
   "cell_type": "markdown",
   "metadata": {
    "id": "3rPnppVkIMAB",
    "tags": [
     "pdf-ignore"
    ]
   },
   "source": [
    "### Barebones PyTorch: Two-Layer Network\n",
    "\n",
    "Here we define a function `two_layer_fc` which performs the forward pass of a two-layer fully-connected ReLU network on a batch of image data. After defining the forward pass we check that it doesn't crash and that it produces outputs of the right shape by running zeros through the network.\n",
    "\n",
    "You don't have to write any code here, but it's important that you read and understand the implementation."
   ]
  },
  {
   "cell_type": "code",
   "execution_count": 8,
   "metadata": {
    "id": "D6PqRQwlIMAC",
    "tags": [
     "pdf-ignore-input"
    ]
   },
   "outputs": [
    {
     "name": "stdout",
     "output_type": "stream",
     "text": [
      "Output size: [64, 10]\n"
     ]
    }
   ],
   "source": [
    "def two_layer_fc(x, params):\n",
    "  \"\"\"\n",
    "  A fully-connected neural networks; the architecture is:\n",
    "  NN is fully connected -> ReLU -> fully connected layer.\n",
    "  Note that this function only defines the forward pass; \n",
    "  PyTorch will take care of the backward pass for us.\n",
    "  \n",
    "  The input to the network will be a minibatch of data, of shape\n",
    "  (N, d1, ..., dM) where d1 * ... * dM = D. The hidden layer will have H units,\n",
    "  and the output layer will produce scores for C classes.\n",
    "  \n",
    "  Inputs:\n",
    "  - x: A PyTorch Tensor of shape (N, d1, ..., dM) giving a minibatch of\n",
    "    input data.\n",
    "  - params: A list [w1, w2] of PyTorch Tensors giving weights for the network;\n",
    "    w1 has shape (H, D) and w2 has shape (C, H).\n",
    "  \n",
    "  Returns:\n",
    "  - scores: A PyTorch Tensor of shape (N, C) giving classification scores for\n",
    "    the input data x.\n",
    "  \"\"\"\n",
    "  # first we flatten the image\n",
    "  x = flatten(x)  # shape: [batch_size, C x H x W]\n",
    "  \n",
    "  w1, b1, w2, b2 = params\n",
    "  \n",
    "  # Forward pass: compute predicted y using operations on Tensors. Since w1 and\n",
    "  # w2 have requires_grad=True, operations involving these Tensors will cause\n",
    "  # PyTorch to build a computational graph, allowing automatic computation of\n",
    "  # gradients. Since we are no longer implementing the backward pass by hand we\n",
    "  # don't need to keep references to intermediate values.\n",
    "  # Note that F.linear(x, w, b) is equivalent to x.mm(w.t()) + b\n",
    "  # For ReLU, you can also use `.clamp(min=0)`, equivalent to `F.relu()`\n",
    "  x = F.relu(F.linear(x, w1, b1))\n",
    "  x = F.linear(x, w2, b2)\n",
    "  return x\n",
    "    \n",
    "\n",
    "def two_layer_fc_test():\n",
    "  hidden_layer_size = 42\n",
    "  x = torch.zeros((64, 3, 16, 16), dtype=to_float)  # minibatch size 64, feature dimension 3*16*16\n",
    "  w1 = torch.zeros((hidden_layer_size, 3*16*16), dtype=to_float)\n",
    "  b1 = torch.zeros((hidden_layer_size,), dtype=to_float)\n",
    "  w2 = torch.zeros((10, hidden_layer_size), dtype=to_float)\n",
    "  b2 = torch.zeros((10,), dtype=to_float)\n",
    "  scores = two_layer_fc(x, [w1, b1, w2, b2])\n",
    "  print('Output size:', list(scores.size()))  # you should see [64, 10]\n",
    "\n",
    "two_layer_fc_test()"
   ]
  },
  {
   "cell_type": "markdown",
   "metadata": {
    "id": "muCDvYEKIMAJ"
   },
   "source": [
    "### Barebones PyTorch: Three-Layer ConvNet\n",
    "\n",
    "Here you will complete the implementation of the function `three_layer_convnet`, which will perform the forward pass of a three-layer convolutional network. Like above, we can immediately test our implementation by passing zeros through the network. The network should have the following architecture:\n",
    "\n",
    "1. A convolutional layer (with bias) with `channel_1` filters, each with shape `kernel_size_1 x kernel_size_1`, and zero-padding of two\n",
    "2. ReLU nonlinearity\n",
    "3. A convolutional layer (with bias) with `channel_2` filters, each with shape `kernel_size_2 x kernel_size_2`, and zero-padding of one\n",
    "4. ReLU nonlinearity\n",
    "5. Fully-connected layer with bias, producing scores for C classes.\n",
    "\n",
    "Note that we have **no softmax activation** here after our fully-connected layer: this is because PyTorch's cross entropy loss performs a softmax activation for you, and by bundling that step in makes computation more efficient.\n",
    "\n",
    "**HINT**: For convolutions: https://pytorch.org/docs/stable/nn.functional.html#torch.nn.functional.conv2d; pay attention to the shapes of convolutional filters! You can use `print(tensor.shape)` for debugging the shapes after each intemidiate layer."
   ]
  },
  {
   "cell_type": "markdown",
   "metadata": {
    "id": "Z7Cg9qvTIMAR"
   },
   "source": [
    "Implement `three_layer_convnet` and run the cell below to test it. When you run this function, scores should have shape (64, 10)."
   ]
  },
  {
   "cell_type": "code",
   "execution_count": 9,
   "metadata": {
    "id": "1kEMMi4QIMAa",
    "tags": [
     "pdf-ignore-input"
    ]
   },
   "outputs": [
    {
     "name": "stdout",
     "output_type": "stream",
     "text": [
      "Output size: [64, 10]\n"
     ]
    }
   ],
   "source": [
    "def three_layer_convnet_test():\n",
    "  x = torch.zeros((64, 3, 32, 32), dtype=to_float)  # minibatch size 64, image size [3, 32, 32]\n",
    "\n",
    "  conv_w1 = torch.zeros((6, 3, 5, 5), dtype=to_float)  # [out_channel, in_channel, kernel_H, kernel_W]\n",
    "  conv_b1 = torch.zeros((6,))  # out_channel\n",
    "  conv_w2 = torch.zeros((9, 6, 3, 3), dtype=to_float)  # [out_channel, in_channel, kernel_H, kernel_W]\n",
    "  conv_b2 = torch.zeros((9,))  # out_channel\n",
    "\n",
    "  # you must calculate the shape of the tensor after two conv layers, before the fully-connected layer\n",
    "  fc_w = torch.zeros((10, 9 * 32 * 32))\n",
    "  fc_b = torch.zeros(10)\n",
    "\n",
    "  # YOUR_TURN: Impelement the three_layer_convnet function\n",
    "  scores = three_layer_convnet(x, [conv_w1, conv_b1, conv_w2, conv_b2, fc_w, fc_b])\n",
    "  print('Output size:', list(scores.size()))  # you should see [64, 10]\n",
    "three_layer_convnet_test()"
   ]
  },
  {
   "cell_type": "markdown",
   "metadata": {
    "id": "WBStmY2yIMAh"
   },
   "source": [
    "### Barebones PyTorch: Kaiming Initialization\n",
    "In this part, we are going to use [Kaiming initialization](https://arxiv.org/abs/1502.01852), which you already implemented in Assignment 3.\n",
    "\n",
    "Fortunately, PyTorch already provides a function, so we will use this:\n",
    "[torch.nn.init.kaiming_normal_](https://pytorch.org/docs/stable/nn.init.html#torch.nn.init.kaiming_normal_)\n",
    "\n",
    "By default, `gain = 2`, because this function assumes that ReLU activation follows.\n",
    "This is true in the linear and convolutional layers in the models you are going to implement, except for the last fully-connected layer:\n",
    "in principle, we should give `gain = 1` because ReLU is not applied there.\n",
    "However, as stated in the [original paper](https://arxiv.org/abs/1502.01852), since the factor 1/2 does not matter if it just exists on one layer, we are going to keep using `gain = 2` for simplicity.\n",
    "\n",
    "For more details on initialization methods provided by PyTorch, see https://pytorch.org/docs/stable/nn.init.html."
   ]
  },
  {
   "cell_type": "code",
   "execution_count": 10,
   "metadata": {
    "id": "_rf9JRh5IMAj",
    "tags": [
     "pdf-ignore-input"
    ]
   },
   "outputs": [
    {
     "name": "stdout",
     "output_type": "stream",
     "text": [
      "tensor([[-0.5848, -0.2690, -1.6721,  0.0918, -0.0764],\n",
      "        [-0.3667, -0.3939, -0.2077, -0.6796, -0.2297],\n",
      "        [-1.0569,  1.4328,  0.1971, -0.1165,  0.8137]], device='cuda:0')\n",
      "tensor([[0., 0., 0., 0., 0.],\n",
      "        [0., 0., 0., 0., 0.],\n",
      "        [0., 0., 0., 0., 0.]], device='cuda:0')\n"
     ]
    }
   ],
   "source": [
    "reset_seed(0)\n",
    "\n",
    "# create a weight of shape [3 x 5]\n",
    "print(nn.init.kaiming_normal_(torch.empty(3, 5, dtype=to_float, device='cuda')))\n",
    "print(nn.init.zeros_(torch.empty(3 ,5, dtype=to_float, device='cuda')))"
   ]
  },
  {
   "cell_type": "markdown",
   "metadata": {
    "id": "akQqCObPIMAo"
   },
   "source": [
    "### Barebones PyTorch: Check Accuracy\n",
    "When training the model we will use the following function to check the accuracy of our model on the training or validation sets.\n",
    "\n",
    "When checking accuracy we don't need to compute any gradients; as a result we don't need PyTorch to build a computational graph for us when we compute scores. To prevent a graph from being built we scope our computation under a `torch.no_grad()` context manager."
   ]
  },
  {
   "cell_type": "code",
   "execution_count": 11,
   "metadata": {
    "id": "l4xAUWASIMAq",
    "tags": [
     "pdf-ignore-input"
    ]
   },
   "outputs": [],
   "source": [
    "def check_accuracy_part2(loader, model_fn, params):\n",
    "  \"\"\"\n",
    "  Check the accuracy of a classification model.\n",
    "  \n",
    "  Inputs:\n",
    "  - loader: A DataLoader for the data split we want to check\n",
    "  - model_fn: A function that performs the forward pass of the model,\n",
    "    with the signature scores = model_fn(x, params)\n",
    "  - params: List of PyTorch Tensors giving parameters of the model\n",
    "  \n",
    "  Returns: Nothing, but prints the accuracy of the model\n",
    "  \"\"\"\n",
    "  split = 'val' if loader.dataset.train else 'test'\n",
    "  print('Checking accuracy on the %s set' % split)\n",
    "  num_correct, num_samples = 0, 0\n",
    "  with torch.no_grad():\n",
    "    for x, y in loader:\n",
    "      x = x.to(device='cuda', dtype=to_float)  # move to device, e.g. GPU\n",
    "      y = y.to(device='cuda', dtype=to_long)\n",
    "      scores = model_fn(x, params)\n",
    "      _, preds = scores.max(1)\n",
    "      num_correct += (preds == y).sum()\n",
    "      num_samples += preds.size(0)\n",
    "    acc = float(num_correct) / num_samples\n",
    "    print('Got %d / %d correct (%.2f%%)' % (num_correct, num_samples, 100 * acc))\n",
    "    return acc"
   ]
  },
  {
   "cell_type": "markdown",
   "metadata": {
    "id": "8LvPbM4WIMAv"
   },
   "source": [
    "### BareBones PyTorch: Training Loop\n",
    "We can now set up a basic training loop to train our network. We will train the model using stochastic gradient descent without momentum. We will use `torch.nn.functional.cross_entropy` to compute the loss; you can [read about it here](https://pytorch.org/docs/stable/nn.html#crossentropyloss).\n",
    "\n",
    "The training loop takes as input the neural network function, a list of initialized parameters (`[w1, w2]` in our example), and learning rate."
   ]
  },
  {
   "cell_type": "code",
   "execution_count": 12,
   "metadata": {
    "id": "WYGBD0YZIMAx",
    "tags": [
     "pdf-ignore-input"
    ]
   },
   "outputs": [],
   "source": [
    "def train_part2(model_fn, params, learning_rate):\n",
    "  \"\"\"\n",
    "  Train a model on CIFAR-10.\n",
    "  \n",
    "  Inputs:\n",
    "  - model_fn: A Python function that performs the forward pass of the model.\n",
    "    It should have the signature scores = model_fn(x, params) where x is a\n",
    "    PyTorch Tensor of image data, params is a list of PyTorch Tensors giving\n",
    "    model weights, and scores is a PyTorch Tensor of shape (N, C) giving\n",
    "    scores for the elements in x.\n",
    "  - params: List of PyTorch Tensors giving weights for the model\n",
    "  - learning_rate: Python scalar giving the learning rate to use for SGD\n",
    "  \n",
    "  Returns: Nothing\n",
    "  \"\"\"\n",
    "  for t, (x, y) in enumerate(loader_train):\n",
    "    # Move the data to the proper device (GPU or CPU)\n",
    "    x = x.to(device='cuda', dtype=to_float)\n",
    "    y = y.to(device='cuda', dtype=to_long)\n",
    "\n",
    "    # Forward pass: compute scores and loss\n",
    "    scores = model_fn(x, params)\n",
    "    loss = F.cross_entropy(scores, y)\n",
    "\n",
    "    # Backward pass: PyTorch figures out which Tensors in the computational\n",
    "    # graph has requires_grad=True and uses backpropagation to compute the\n",
    "    # gradient of the loss with respect to these Tensors, and stores the\n",
    "    # gradients in the .grad attribute of each Tensor.\n",
    "    loss.backward()\n",
    "\n",
    "    # Update parameters. We don't want to backpropagate through the\n",
    "    # parameter updates, so we scope the updates under a torch.no_grad()\n",
    "    # context manager to prevent a computational graph from being built.\n",
    "    with torch.no_grad():\n",
    "      for w in params:\n",
    "        if w.requires_grad:\n",
    "          w -= learning_rate * w.grad\n",
    "\n",
    "          # Manually zero the gradients after running the backward pass\n",
    "          w.grad.zero_()\n",
    "\n",
    "    if t % 100 == 0 or t == len(loader_train)-1:\n",
    "      print('Iteration %d, loss = %.4f' % (t, loss.item()))\n",
    "      acc = check_accuracy_part2(loader_val, model_fn, params)\n",
    "  return acc"
   ]
  },
  {
   "cell_type": "markdown",
   "metadata": {
    "id": "gkTNXK9cIMA6"
   },
   "source": [
    "### BareBones PyTorch: Train a Two-Layer Network\n",
    "Now we are ready to run the training loop. We need to explicitly allocate tensors for the fully connected weights, `w1` and `w2`. \n",
    "\n",
    "Each minibatch of CIFAR has 64 examples, so the tensor shape is `[64, 3, 32, 32]`. \n",
    "\n",
    "After flattening, `x` shape should be `[64, 3 * 32 * 32]`. This will be the size of the second dimension of `w1`. \n",
    "The first dimension of `w1` is the hidden layer size, which will also be the second dimension of `w2`. \n",
    "\n",
    "Finally, the output of the network is a 10-dimensional vector that represents the probability distribution over 10 classes. \n",
    "\n",
    "You don't need to tune any hyperparameters but you should see accuracies around 40% after training for one epoch."
   ]
  },
  {
   "cell_type": "code",
   "execution_count": 13,
   "metadata": {
    "id": "OSBSy0JTIMA8"
   },
   "outputs": [
    {
     "name": "stdout",
     "output_type": "stream",
     "text": [
      "Iteration 0, loss = 3.4578\n",
      "Checking accuracy on the val set\n",
      "Got 139 / 1000 correct (13.90%)\n",
      "Iteration 100, loss = 2.6984\n",
      "Checking accuracy on the val set\n",
      "Got 363 / 1000 correct (36.30%)\n",
      "Iteration 200, loss = 2.1671\n",
      "Checking accuracy on the val set\n",
      "Got 422 / 1000 correct (42.20%)\n",
      "Iteration 300, loss = 1.7345\n",
      "Checking accuracy on the val set\n",
      "Got 409 / 1000 correct (40.90%)\n",
      "Iteration 400, loss = 1.5600\n",
      "Checking accuracy on the val set\n",
      "Got 423 / 1000 correct (42.30%)\n",
      "Iteration 500, loss = 2.2772\n",
      "Checking accuracy on the val set\n",
      "Got 431 / 1000 correct (43.10%)\n",
      "Iteration 600, loss = 1.8758\n",
      "Checking accuracy on the val set\n",
      "Got 428 / 1000 correct (42.80%)\n",
      "Iteration 700, loss = 1.8185\n",
      "Checking accuracy on the val set\n",
      "Got 431 / 1000 correct (43.10%)\n",
      "Iteration 765, loss = 1.6232\n",
      "Checking accuracy on the val set\n",
      "Got 413 / 1000 correct (41.30%)\n"
     ]
    }
   ],
   "source": [
    "reset_seed(0)\n",
    "\n",
    "C, H, W = 3, 32, 32\n",
    "num_classes = 10\n",
    "\n",
    "hidden_layer_size = 4000\n",
    "learning_rate = 1e-2\n",
    "\n",
    "w1 = nn.init.kaiming_normal_(torch.empty(hidden_layer_size, C*H*W, dtype=to_float, device='cuda'))\n",
    "w1.requires_grad = True\n",
    "b1 = nn.init.zeros_(torch.empty(hidden_layer_size, dtype=to_float, device='cuda'))\n",
    "b1.requires_grad = True\n",
    "w2 = nn.init.kaiming_normal_(torch.empty(num_classes, hidden_layer_size, dtype=to_float, device='cuda'))\n",
    "w2.requires_grad = True\n",
    "b2 = nn.init.zeros_(torch.empty(num_classes, dtype=to_float, device='cuda'))\n",
    "b2.requires_grad = True\n",
    "\n",
    "_ = train_part2(two_layer_fc, [w1, b1, w2, b2], learning_rate)"
   ]
  },
  {
   "cell_type": "markdown",
   "metadata": {
    "id": "7K_n_BZPIMBB"
   },
   "source": [
    "### BareBones PyTorch: Training a ConvNet\n",
    "\n",
    "Now, it's your turn to  implement `initialize_three_layer_conv_part2` function and run the following cell. \n",
    "\n",
    "You don't need to tune any hyperparameters, but if everything works correctly you should achieve an accuracy around 45% after one epoch."
   ]
  },
  {
   "cell_type": "code",
   "execution_count": 14,
   "metadata": {
    "id": "wBRWytEzIMBC"
   },
   "outputs": [
    {
     "name": "stdout",
     "output_type": "stream",
     "text": [
      "Iteration 0, loss = 2.5658\n",
      "Checking accuracy on the val set\n",
      "Got 109 / 1000 correct (10.90%)\n",
      "Iteration 100, loss = 1.9382\n",
      "Checking accuracy on the val set\n",
      "Got 345 / 1000 correct (34.50%)\n",
      "Iteration 200, loss = 1.8542\n",
      "Checking accuracy on the val set\n",
      "Got 393 / 1000 correct (39.30%)\n",
      "Iteration 300, loss = 1.6520\n",
      "Checking accuracy on the val set\n",
      "Got 412 / 1000 correct (41.20%)\n",
      "Iteration 400, loss = 1.5146\n",
      "Checking accuracy on the val set\n",
      "Got 439 / 1000 correct (43.90%)\n",
      "Iteration 500, loss = 1.7338\n",
      "Checking accuracy on the val set\n",
      "Got 456 / 1000 correct (45.60%)\n",
      "Iteration 600, loss = 1.6034\n",
      "Checking accuracy on the val set\n",
      "Got 467 / 1000 correct (46.70%)\n",
      "Iteration 700, loss = 1.8494\n",
      "Checking accuracy on the val set\n",
      "Got 466 / 1000 correct (46.60%)\n",
      "Iteration 765, loss = 1.3469\n",
      "Checking accuracy on the val set\n",
      "Got 467 / 1000 correct (46.70%)\n"
     ]
    }
   ],
   "source": [
    "reset_seed(0)\n",
    "learning_rate = 3e-3\n",
    "# YOUR_TURN: Impelement the initialize_three_layer_conv_part2 function\n",
    "params = initialize_three_layer_conv_part2(dtype=to_float, device='cuda')\n",
    "acc_hist_part2 = train_part2(three_layer_convnet, params, learning_rate)"
   ]
  },
  {
   "cell_type": "markdown",
   "metadata": {
    "id": "YXGdsYInIMBH"
   },
   "source": [
    "# Part III. PyTorch Module API\n",
    "\n",
    "Barebone PyTorch requires that we track all the parameter tensors by hand. This is fine for small networks with a few tensors, but it would be extremely inconvenient and error-prone to track tens or hundreds of tensors in larger networks.\n",
    "\n",
    "PyTorch provides the `nn.Module` API for you to define arbitrary network architectures, while tracking every learnable parameters for you. In Part II, we implemented SGD ourselves. PyTorch also provides the `torch.optim` package that implements all the common optimizers, such as RMSProp, Adagrad, and Adam. It even supports approximate second-order methods like L-BFGS! You can refer to the [doc](http://pytorch.org/docs/master/optim.html) for the exact specifications of each optimizer.\n",
    "\n",
    "To use the Module API, follow the steps below:\n",
    "\n",
    "1. Subclass `nn.Module`. Give your network class an intuitive name like `TwoLayerFC`. \n",
    "\n",
    "2. In the constructor `__init__()`, define all the layers you need as class attributes. Layer objects like `nn.Linear` and `nn.Conv2d` are themselves `nn.Module` subclasses and contain learnable parameters, so that you don't have to instantiate the raw tensors yourself. `nn.Module` will track these internal parameters for you. Refer to the [doc](http://pytorch.org/docs/master/nn.html) to learn more about the dozens of builtin layers. **Warning**: don't forget to call the `super().__init__()` first!\n",
    "\n",
    "3. In the `forward()` method, define the *connectivity* of your network. You should use the attributes defined in `__init__` as function calls that take tensor as input and output the \"transformed\" tensor. Do *not* create any new layers with learnable parameters in `forward()`! All of them must be declared upfront in `__init__`. \n",
    "\n",
    "After you define your Module subclass, you can instantiate it as an object and call it just like the NN forward function in part II.\n",
    "\n",
    "### Module API: Two-Layer Network\n",
    "Here is a concrete example of a 2-layer fully connected network.\n",
    "We use `nn.init.kaiming_normal_` to initialize weights using Kaiming initialization, and `nn.init.zeros_` to initialize biases."
   ]
  },
  {
   "cell_type": "code",
   "execution_count": 15,
   "metadata": {
    "id": "2Ue0_Cf1IMBJ"
   },
   "outputs": [
    {
     "name": "stdout",
     "output_type": "stream",
     "text": [
      "Architecture:\n",
      "TwoLayerFC(\n",
      "  (fc1): Linear(in_features=768, out_features=42, bias=True)\n",
      "  (fc2): Linear(in_features=42, out_features=10, bias=True)\n",
      ")\n",
      "Output size: [64, 10]\n"
     ]
    }
   ],
   "source": [
    "class TwoLayerFC(nn.Module):\n",
    "  def __init__(self, input_size, hidden_size, num_classes):\n",
    "    super().__init__()\n",
    "    # assign layer objects to class attributes\n",
    "    self.fc1 = nn.Linear(input_size, hidden_size)\n",
    "    self.fc2 = nn.Linear(hidden_size, num_classes)\n",
    "    # nn.init package contains convenient initialization methods\n",
    "    # https://pytorch.org/docs/stable/nn.init.html#torch.nn.init.kaiming_normal_ \n",
    "    nn.init.kaiming_normal_(self.fc1.weight)\n",
    "    nn.init.kaiming_normal_(self.fc2.weight)\n",
    "    nn.init.zeros_(self.fc1.bias)\n",
    "    nn.init.zeros_(self.fc2.bias)\n",
    "  \n",
    "  def forward(self, x):\n",
    "    # forward always defines connectivity\n",
    "    x = flatten(x)\n",
    "    scores = self.fc2(F.relu(self.fc1(x)))\n",
    "    return scores\n",
    "\n",
    "def test_TwoLayerFC():\n",
    "  input_size = 3*16*16\n",
    "  x = torch.zeros((64, input_size), dtype=to_float)  # minibatch size 64, feature dimension 3*16*16\n",
    "  model = TwoLayerFC(input_size, 42, 10)\n",
    "  scores = model(x)\n",
    "  print('Architecture:')\n",
    "  print(model) # printing `nn.Module` shows the architecture of the module.\n",
    "  print('Output size:', list(scores.size()))  # you should see [64, 10]\n",
    "test_TwoLayerFC()"
   ]
  },
  {
   "cell_type": "markdown",
   "metadata": {
    "id": "CruYc2HJIMBP"
   },
   "source": [
    "### Module API: Three-Layer ConvNet\n",
    "It's your turn to implement a 3-layer ConvNet followed by a fully connected layer. \n",
    "\n",
    "After you implement the `ThreeLayerConvNet`, the `test_ThreeLayerConvNet` function will run your implementation; it should print `(64, 10)` for the shape of the output scores."
   ]
  },
  {
   "cell_type": "code",
   "execution_count": 16,
   "metadata": {
    "id": "R58EqBTYIMBU"
   },
   "outputs": [
    {
     "name": "stdout",
     "output_type": "stream",
     "text": [
      "ThreeLayerConvNet(\n",
      "  (conv1): Conv2d(3, 12, kernel_size=(5, 5), stride=(1, 1), padding=(2, 2))\n",
      "  (conv2): Conv2d(12, 8, kernel_size=(3, 3), stride=(1, 1), padding=(1, 1))\n",
      "  (fc): Linear(in_features=8192, out_features=10, bias=True)\n",
      ")\n",
      "Output size: [64, 10]\n"
     ]
    }
   ],
   "source": [
    "def test_ThreeLayerConvNet():\n",
    "  x = torch.zeros((64, 3, 32, 32), dtype=to_float)  # minibatch size 64, image size [3, 32, 32]\n",
    "  # YOUR_TURN: Impelement the functions in ThreeLayerConvNet class\n",
    "  model = ThreeLayerConvNet(in_channel=3, channel_1=12, channel_2=8, num_classes=10)\n",
    "  scores = model(x)\n",
    "  print(model) # printing `nn.Module` shows the architecture of the module.\n",
    "  print('Output size:', list(scores.size()))  # you should see [64, 10]\n",
    "test_ThreeLayerConvNet()"
   ]
  },
  {
   "cell_type": "markdown",
   "metadata": {
    "id": "3efFpwV_IMBZ"
   },
   "source": [
    "### Module API: Check Accuracy\n",
    "Given the validation or test set, we can check the classification accuracy of a neural network. \n",
    "\n",
    "This version is slightly different from the one in part II. You don't manually pass in the parameters anymore."
   ]
  },
  {
   "cell_type": "code",
   "execution_count": 17,
   "metadata": {
    "id": "LpgKJLVbIMBb"
   },
   "outputs": [],
   "source": [
    "def check_accuracy_part34(loader, model):\n",
    "  if loader.dataset.train:\n",
    "    print('Checking accuracy on validation set')\n",
    "  else:\n",
    "    print('Checking accuracy on test set')   \n",
    "  num_correct = 0\n",
    "  num_samples = 0\n",
    "  model.eval()  # set model to evaluation mode\n",
    "  with torch.no_grad():\n",
    "    for x, y in loader:\n",
    "      x = x.to(device='cuda', dtype=to_float)  # move to device, e.g. GPU\n",
    "      y = y.to(device='cuda', dtype=to_long)\n",
    "      scores = model(x)\n",
    "      _, preds = scores.max(1)\n",
    "      num_correct += (preds == y).sum()\n",
    "      num_samples += preds.size(0)\n",
    "    acc = float(num_correct) / num_samples\n",
    "    print('Got %d / %d correct (%.2f)' % (num_correct, num_samples, 100 * acc))\n",
    "  return acc"
   ]
  },
  {
   "cell_type": "markdown",
   "metadata": {
    "id": "-tmOMi8SIMBj"
   },
   "source": [
    "### Module API: Training Loop\n",
    "We also use a slightly different training loop. Rather than updating the values of the weights ourselves, we use an Optimizer object from the `torch.optim` package, which abstract the notion of an optimization algorithm and provides implementations of most of the algorithms commonly used to optimize neural networks."
   ]
  },
  {
   "cell_type": "code",
   "execution_count": 18,
   "metadata": {
    "id": "HLJjvtu1IMBm"
   },
   "outputs": [],
   "source": [
    "def adjust_learning_rate(optimizer, lrd, epoch, schedule):\n",
    "  \"\"\"\n",
    "  Multiply lrd to the learning rate if epoch is in schedule\n",
    "  \n",
    "  Inputs:\n",
    "  - optimizer: An Optimizer object we will use to train the model\n",
    "  - lrd: learning rate decay; a factor multiplied at scheduled epochs\n",
    "  - epochs: the current epoch number\n",
    "  - schedule: the list of epochs that requires learning rate update\n",
    "  \n",
    "  Returns: Nothing, but learning rate might be updated\n",
    "  \"\"\"\n",
    "  if epoch in schedule:\n",
    "    for param_group in optimizer.param_groups:\n",
    "      print('lr decay from {} to {}'.format(param_group['lr'], param_group['lr'] * lrd))\n",
    "      param_group['lr'] *= lrd\n",
    "\n",
    "def train_part345(model, optimizer, epochs=1, learning_rate_decay=.1, schedule=[], verbose=True):\n",
    "  \"\"\"\n",
    "  Train a model on CIFAR-10 using the PyTorch Module API.\n",
    "  \n",
    "  Inputs:\n",
    "  - model: A PyTorch Module giving the model to train.\n",
    "  - optimizer: An Optimizer object we will use to train the model\n",
    "  - epochs: (Optional) A Python integer giving the number of epochs to train for\n",
    "  \n",
    "  Returns: Nothing, but prints model accuracies during training.\n",
    "  \"\"\"\n",
    "  model = model.to(device='cuda')  # move the model parameters to CPU/GPU\n",
    "  num_iters = epochs * len(loader_train)\n",
    "  print_every = 100\n",
    "  if verbose:\n",
    "    num_prints = num_iters // print_every + 1\n",
    "  else:\n",
    "    num_prints = epochs\n",
    "  acc_history = torch.zeros(num_prints, dtype=to_float)\n",
    "  iter_history = torch.zeros(num_prints, dtype=to_long)\n",
    "  for e in range(epochs):\n",
    "    \n",
    "    adjust_learning_rate(optimizer, learning_rate_decay, e, schedule)\n",
    "    \n",
    "    for t, (x, y) in enumerate(loader_train):\n",
    "      model.train()  # put model to training mode\n",
    "      x = x.to(device='cuda', dtype=to_float)  # move to device, e.g. GPU\n",
    "      y = y.to(device='cuda', dtype=to_long)\n",
    "\n",
    "      scores = model(x)\n",
    "      loss = F.cross_entropy(scores, y)\n",
    "\n",
    "      # Zero out all of the gradients for the variables which the optimizer\n",
    "      # will update.\n",
    "      optimizer.zero_grad()\n",
    "\n",
    "      # This is the backwards pass: compute the gradient of the loss with\n",
    "      # respect to each  parameter of the model.\n",
    "      loss.backward()\n",
    "\n",
    "      # Actually update the parameters of the model using the gradients\n",
    "      # computed by the backwards pass.\n",
    "      optimizer.step()\n",
    "\n",
    "      tt = t + e * len(loader_train)\n",
    "\n",
    "      if verbose and (tt % print_every == 0 or (e == epochs-1 and t == len(loader_train)-1)):\n",
    "        print('Epoch %d, Iteration %d, loss = %.4f' % (e, tt, loss.item()))\n",
    "        acc = check_accuracy_part34(loader_val, model)\n",
    "        acc_history[tt // print_every] = acc\n",
    "        iter_history[tt // print_every] = tt\n",
    "        print()\n",
    "      elif not verbose and (t == len(loader_train)-1):\n",
    "        print('Epoch %d, Iteration %d, loss = %.4f' % (e, tt, loss.item()))\n",
    "        acc = check_accuracy_part34(loader_val, model)\n",
    "        acc_history[e] = acc\n",
    "        iter_history[e] = tt\n",
    "        print()\n",
    "  return acc_history, iter_history"
   ]
  },
  {
   "cell_type": "markdown",
   "metadata": {
    "id": "uFQs2WWKIMBu"
   },
   "source": [
    "### Module API: Train a Two-Layer Network\n",
    "Now we are ready to run the training loop. In contrast to part II, we don't explicitly allocate parameter tensors anymore.\n",
    "\n",
    "Simply pass the input size, hidden layer size, and number of classes (i.e. output size) to the constructor of `TwoLayerFC`. \n",
    "\n",
    "You also need to define an optimizer that tracks all the learnable parameters inside `TwoLayerFC`.\n",
    "\n",
    "You don't need to tune any hyperparameters or implement anything, but you should see model accuracies around 40% after training for one epoch."
   ]
  },
  {
   "cell_type": "code",
   "execution_count": 19,
   "metadata": {
    "id": "v4Od-a6_IMBv"
   },
   "outputs": [
    {
     "name": "stdout",
     "output_type": "stream",
     "text": [
      "Epoch 0, Iteration 0, loss = 3.3988\n",
      "Checking accuracy on validation set\n",
      "Got 139 / 1000 correct (13.90)\n",
      "\n",
      "Epoch 0, Iteration 100, loss = 2.9722\n",
      "Checking accuracy on validation set\n",
      "Got 329 / 1000 correct (32.90)\n",
      "\n",
      "Epoch 0, Iteration 200, loss = 2.1040\n",
      "Checking accuracy on validation set\n",
      "Got 336 / 1000 correct (33.60)\n",
      "\n",
      "Epoch 0, Iteration 300, loss = 2.1650\n",
      "Checking accuracy on validation set\n",
      "Got 433 / 1000 correct (43.30)\n",
      "\n",
      "Epoch 0, Iteration 400, loss = 1.9786\n",
      "Checking accuracy on validation set\n",
      "Got 432 / 1000 correct (43.20)\n",
      "\n",
      "Epoch 0, Iteration 500, loss = 1.7869\n",
      "Checking accuracy on validation set\n",
      "Got 447 / 1000 correct (44.70)\n",
      "\n",
      "Epoch 0, Iteration 600, loss = 2.1066\n",
      "Checking accuracy on validation set\n",
      "Got 468 / 1000 correct (46.80)\n",
      "\n",
      "Epoch 0, Iteration 700, loss = 1.6741\n",
      "Checking accuracy on validation set\n",
      "Got 474 / 1000 correct (47.40)\n",
      "\n",
      "Epoch 0, Iteration 765, loss = 1.6809\n",
      "Checking accuracy on validation set\n",
      "Got 410 / 1000 correct (41.00)\n",
      "\n"
     ]
    }
   ],
   "source": [
    "reset_seed(0)\n",
    "\n",
    "C, H, W = 3, 32, 32\n",
    "num_classes = 10\n",
    "\n",
    "hidden_layer_size = 4000\n",
    "learning_rate = 1e-2\n",
    "weight_decay = 1e-4\n",
    "\n",
    "model = TwoLayerFC(C*H*W, hidden_layer_size, num_classes)\n",
    "\n",
    "optimizer = optim.SGD(model.parameters(), lr=learning_rate,\n",
    "                      weight_decay=weight_decay)\n",
    "\n",
    "_ = train_part345(model, optimizer)"
   ]
  },
  {
   "cell_type": "markdown",
   "metadata": {
    "id": "J_35SZYHIMB4"
   },
   "source": [
    "### Module API: Train a Three-Layer ConvNet\n",
    "You should now use the Module API to train a three-layer ConvNet on CIFAR. This should look very similar to training the two-layer network! You don't need to tune any hyperparameters, but you should achieve above around 45% after training for one epoch.\n",
    "\n",
    "Implement the `initialize_three_layer_conv_part3` function, you should train the model using stochastic gradient descent without momentum, with L2 weight decay of 1e-4."
   ]
  },
  {
   "cell_type": "code",
   "execution_count": 20,
   "metadata": {
    "id": "-bIRiwOJIMB6"
   },
   "outputs": [
    {
     "name": "stdout",
     "output_type": "stream",
     "text": [
      "Epoch 0, Iteration 0, loss = 2.5485\n",
      "Checking accuracy on validation set\n",
      "Got 121 / 1000 correct (12.10)\n",
      "\n",
      "Epoch 0, Iteration 100, loss = 1.7905\n",
      "Checking accuracy on validation set\n",
      "Got 365 / 1000 correct (36.50)\n",
      "\n",
      "Epoch 0, Iteration 200, loss = 1.8049\n",
      "Checking accuracy on validation set\n",
      "Got 447 / 1000 correct (44.70)\n",
      "\n",
      "Epoch 0, Iteration 300, loss = 1.6710\n",
      "Checking accuracy on validation set\n",
      "Got 448 / 1000 correct (44.80)\n",
      "\n",
      "Epoch 0, Iteration 400, loss = 1.5467\n",
      "Checking accuracy on validation set\n",
      "Got 482 / 1000 correct (48.20)\n",
      "\n",
      "Epoch 0, Iteration 500, loss = 1.6009\n",
      "Checking accuracy on validation set\n",
      "Got 506 / 1000 correct (50.60)\n",
      "\n",
      "Epoch 0, Iteration 600, loss = 1.3882\n",
      "Checking accuracy on validation set\n",
      "Got 508 / 1000 correct (50.80)\n",
      "\n",
      "Epoch 0, Iteration 700, loss = 1.2571\n",
      "Checking accuracy on validation set\n",
      "Got 517 / 1000 correct (51.70)\n",
      "\n",
      "Epoch 0, Iteration 765, loss = 1.1433\n",
      "Checking accuracy on validation set\n",
      "Got 496 / 1000 correct (49.60)\n",
      "\n"
     ]
    }
   ],
   "source": [
    "reset_seed(0)\n",
    "# YOUR_TURN: Impelement initialize_three_layer_conv_part3\n",
    "model, optimizer = initialize_three_layer_conv_part3()\n",
    "acc_hist_part3, _ = train_part345(model, optimizer)"
   ]
  },
  {
   "cell_type": "markdown",
   "metadata": {
    "id": "qeTdi4-xIMB_"
   },
   "source": [
    "# Part IV. PyTorch Sequential API\n",
    "\n",
    "Part III introduced the PyTorch Module API, which allows you to define arbitrary learnable layers and their connectivity. \n",
    "\n",
    "For simple models like a stack of feed forward layers, you still need to go through 3 steps: subclass `nn.Module`, assign layers to class attributes in `__init__`, and call each layer one by one in `forward()`. Is there a more convenient way? \n",
    "\n",
    "Fortunately, PyTorch provides a container Module called `nn.Sequential`, which merges the above steps into one. It is not as flexible as `nn.Module`, because you cannot specify more complex topology than a feed-forward stack, but it's good enough for many use cases."
   ]
  },
  {
   "cell_type": "markdown",
   "metadata": {
    "id": "ZZq-3hjxeYr4"
   },
   "source": [
    "### Sequential API: Two-Layer Network\n",
    "Let's see how to rewrite our two-layer fully connected network example with `nn.Sequential`, and train it using the training loop defined above.\n",
    "Here, let's skip weight initialization for simplicity;\n",
    "with a more advanced optimizer than the naive SGD, the default initialization provided in `torch.nn` is good enough for shallow networks.\n",
    "\n",
    "Again, you don't need to tune any hyperparameters or implement anything here, but you should achieve around 40% accuracy after one epoch of training."
   ]
  },
  {
   "cell_type": "code",
   "execution_count": 21,
   "metadata": {
    "id": "9smkhciWIMCC"
   },
   "outputs": [
    {
     "name": "stdout",
     "output_type": "stream",
     "text": [
      "Architecture:\n",
      "Sequential(\n",
      "  (flatten): Flatten()\n",
      "  (fc1): Linear(in_features=3072, out_features=4000, bias=True)\n",
      "  (relu1): ReLU()\n",
      "  (fc2): Linear(in_features=4000, out_features=10, bias=True)\n",
      ")\n",
      "Epoch 0, Iteration 0, loss = 2.3772\n",
      "Checking accuracy on validation set\n",
      "Got 137 / 1000 correct (13.70)\n",
      "\n",
      "Epoch 0, Iteration 100, loss = 1.7473\n",
      "Checking accuracy on validation set\n",
      "Got 397 / 1000 correct (39.70)\n",
      "\n",
      "Epoch 0, Iteration 200, loss = 1.6999\n",
      "Checking accuracy on validation set\n",
      "Got 408 / 1000 correct (40.80)\n",
      "\n",
      "Epoch 0, Iteration 300, loss = 1.6144\n",
      "Checking accuracy on validation set\n",
      "Got 439 / 1000 correct (43.90)\n",
      "\n",
      "Epoch 0, Iteration 400, loss = 1.6311\n",
      "Checking accuracy on validation set\n",
      "Got 453 / 1000 correct (45.30)\n",
      "\n",
      "Epoch 0, Iteration 500, loss = 1.5474\n",
      "Checking accuracy on validation set\n",
      "Got 459 / 1000 correct (45.90)\n",
      "\n",
      "Epoch 0, Iteration 600, loss = 1.4812\n",
      "Checking accuracy on validation set\n",
      "Got 471 / 1000 correct (47.10)\n",
      "\n",
      "Epoch 0, Iteration 700, loss = 1.6645\n",
      "Checking accuracy on validation set\n",
      "Got 452 / 1000 correct (45.20)\n",
      "\n",
      "Epoch 0, Iteration 765, loss = 1.2929\n",
      "Checking accuracy on validation set\n",
      "Got 459 / 1000 correct (45.90)\n",
      "\n"
     ]
    }
   ],
   "source": [
    "reset_seed(0)\n",
    "C, H, W = 3, 32, 32\n",
    "num_classes = 10\n",
    "\n",
    "hidden_layer_size = 4000\n",
    "learning_rate = 1e-2\n",
    "weight_decay = 1e-4\n",
    "momentum = 0.5\n",
    "\n",
    "# To give a specific name to each module, use OrderedDict.\n",
    "model = nn.Sequential(OrderedDict([\n",
    "  ('flatten', Flatten()),\n",
    "  ('fc1', nn.Linear(C*H*W, hidden_layer_size)),\n",
    "  ('relu1', nn.ReLU()),\n",
    "  ('fc2', nn.Linear(hidden_layer_size, num_classes)),\n",
    "]))\n",
    "\n",
    "print('Architecture:')\n",
    "print(model) # printing `nn.Module` shows the architecture of the module.\n",
    "\n",
    "# you can use Nesterov momentum in optim.SGD\n",
    "optimizer = optim.SGD(model.parameters(), lr=learning_rate, \n",
    "                      weight_decay=weight_decay,\n",
    "                      momentum=momentum, nesterov=True)\n",
    "\n",
    "_ = train_part345(model, optimizer)"
   ]
  },
  {
   "cell_type": "markdown",
   "metadata": {
    "id": "5YMYfFUGIMCH"
   },
   "source": [
    "### Sequential API: Three-Layer ConvNet\n",
    "Now, it's your turn to use `nn.Sequential` to define and train a three-layer ConvNet with the same architecture we used in Part III. \n",
    "\n",
    "Implement `initialize_three_layer_conv_part4` and  you should see accuracy around 50% after one epoch of training.                      \n",
    "\t"
   ]
  },
  {
   "cell_type": "code",
   "execution_count": 22,
   "metadata": {
    "id": "Q2To2-mtIMCJ"
   },
   "outputs": [
    {
     "name": "stdout",
     "output_type": "stream",
     "text": [
      "Architecture:\n",
      "Sequential(\n",
      "  (conv1): Conv2d(3, 32, kernel_size=(5, 5), stride=(1, 1), padding=(2, 2))\n",
      "  (relu1): ReLU()\n",
      "  (conv2): Conv2d(32, 16, kernel_size=(3, 3), stride=(1, 1), padding=(1, 1))\n",
      "  (relu2): ReLU()\n",
      "  (flatten): Flatten()\n",
      "  (fc1): Linear(in_features=16384, out_features=10, bias=True)\n",
      ")\n"
     ]
    },
    {
     "name": "stdout",
     "output_type": "stream",
     "text": [
      "Epoch 0, Iteration 0, loss = 2.2960\n",
      "Checking accuracy on validation set\n",
      "Got 136 / 1000 correct (13.60)\n",
      "\n",
      "Epoch 0, Iteration 100, loss = 1.6671\n",
      "Checking accuracy on validation set\n",
      "Got 382 / 1000 correct (38.20)\n",
      "\n",
      "Epoch 0, Iteration 200, loss = 1.4598\n",
      "Checking accuracy on validation set\n",
      "Got 478 / 1000 correct (47.80)\n",
      "\n",
      "Epoch 0, Iteration 300, loss = 1.7124\n",
      "Checking accuracy on validation set\n",
      "Got 482 / 1000 correct (48.20)\n",
      "\n",
      "Epoch 0, Iteration 400, loss = 1.6094\n",
      "Checking accuracy on validation set\n",
      "Got 490 / 1000 correct (49.00)\n",
      "\n",
      "Epoch 0, Iteration 500, loss = 1.4327\n",
      "Checking accuracy on validation set\n",
      "Got 500 / 1000 correct (50.00)\n",
      "\n",
      "Epoch 0, Iteration 600, loss = 1.5031\n",
      "Checking accuracy on validation set\n",
      "Got 544 / 1000 correct (54.40)\n",
      "\n",
      "Epoch 0, Iteration 700, loss = 1.3416\n",
      "Checking accuracy on validation set\n",
      "Got 542 / 1000 correct (54.20)\n",
      "\n",
      "Epoch 0, Iteration 765, loss = 1.3146\n",
      "Checking accuracy on validation set\n",
      "Got 534 / 1000 correct (53.40)\n",
      "\n"
     ]
    }
   ],
   "source": [
    "reset_seed(0)\n",
    "\n",
    "# YOUR_TURN: Impelement initialize_three_layer_conv_part4\n",
    "model, optimizer = initialize_three_layer_conv_part4()\n",
    "print('Architecture:')\n",
    "print(model) # printing `nn.Module` shows the architecture of the module.\n",
    "\n",
    "acc_hist_part4, _ = train_part345(model, optimizer)"
   ]
  },
  {
   "cell_type": "markdown",
   "metadata": {
    "id": "CM6FuhGPIMCO"
   },
   "source": [
    "# Part V. ResNet for CIFAR-10\n",
    "\n",
    "In this section, you are going to implement [ResNet](https://arxiv.org/abs/1512.03385), one of the state-of-the-art CNN architecture.\n",
    "Specifically, you are going to implement a variation of ResNet called [PreResNet](https://arxiv.org/abs/1603.05027), which locates activation before each convolutional layer (so called pre-activation).\n",
    "You are going to first implement a plain building block, residual block, and then bottleneck block for really deep networks.\n",
    "Finally, you will implement your own ResNet using those blocks.\n",
    "\n",
    "Throughout this part, we will follow the PyTorch default weight initialization for conciseness."
   ]
  },
  {
   "cell_type": "markdown",
   "metadata": {
    "id": "f8pgYlKN9NLH"
   },
   "source": [
    "## Plain block\n",
    "\n",
    "First, let's implement a plain block without residual connection.\n",
    "PreResNet has a different order of layers from the previously implemented ones;\n",
    "BatchNorm and ReLU precedes Conv.\n",
    "The name of PreResNet comes form this pre-activation architecture.\n",
    "Here, for downsampling, we don't introduce MaxPool layers explicitly, but use stride 2 in the first Conv layer in the block.\n",
    "\n",
    "Concretely, a plain block accepts a feature map of shape $C_{in} \\times H_{in} \\times W_{out}$ and produces a feature map of shape $C_{out} \\times H_{out} \\times W_{out}$. If the block performs downsampling, then $W_{out}=W_{in}/2$ and $H_{out}=H_{in}/2$; otherwise $H_{out}=H_{in}$ and $W_{out}=W_{in}$. The plain block consists of the following six layers in order:\n",
    "\n",
    "1. Spatial Batch normalization\n",
    "2. ReLU\n",
    "3. Convolutional layer with `Cout` 3x3 filters, zero-padding of 1, and stride 2 if downsampling; otherwise stride 1\n",
    "4. Spatial Batch normalization\n",
    "5. ReLU\n",
    "6. Convolutional layer with `Cout` 3x3 filters, with zero-padding of 1\n",
    "\n",
    "Implement the `PlainBlock.__init__` function and run the following cell. You should see a message indicating that your implementation is correct.\n"
   ]
  },
  {
   "cell_type": "code",
   "execution_count": 23,
   "metadata": {
    "id": "SofEF-vyAekS"
   },
   "outputs": [
    {
     "name": "stdout",
     "output_type": "stream",
     "text": [
      "The output of PlainBlock without downsampling has a *correct* dimension!\n",
      "The output of PlainBlock with downsampling has a *correct* dimension!\n"
     ]
    }
   ],
   "source": [
    "data = torch.zeros(2, 3, 5, 6)\n",
    "# YOUR_TURN: Impelement PlainBlock.__init__\n",
    "model = PlainBlock(3, 10)\n",
    "if list(model(data).shape) == [2, 10, 5, 6]:\n",
    "  print('The output of PlainBlock without downsampling has a *correct* dimension!')\n",
    "else:\n",
    "  print('The output of PlainBlock without downsampling has an *incorrect* dimension! expected:', [2, 10, 5, 6], 'got:', list(model(data).shape))\n",
    "\n",
    "data = torch.zeros(2, 3, 5, 6)\n",
    "# YOUR_TURN: Impelement PlainBlock.__init__\n",
    "model = PlainBlock(3, 10, downsample=True)\n",
    "if list(model(data).shape) == [2, 10, 3, 3]:\n",
    "  print('The output of PlainBlock with downsampling has a *correct* dimension!')\n",
    "else:\n",
    "  print('The output of PlainBlock with downsampling has an *incorrect* dimension! expected:', [2, 10, 3, 3], 'got:', list(model(data).shape))"
   ]
  },
  {
   "cell_type": "markdown",
   "metadata": {
    "id": "ASV5NdNADo3F"
   },
   "source": [
    "## Residual block\n",
    "\n",
    "Next, let's implement a residual block.\n",
    "A residual block adds a residual connection to a plain block. Let $\\mathcal{F}$ be a plain block; then the residual version  $\\mathcal{R}$ of the plain block $\\mathcal{F}$ computes:\n",
    "\n",
    "$\\mathcal{R}(x) = \\mathcal{F}(x) + x$\n",
    "\n",
    "However, this implementation will only work if the output from the plain block $\\mathcal{F}(x)$ has the same shape as the input $x$. Based on the plain block that we implemented above, there are two cases where the output of the plain block can have a different shape than the input:\n",
    "\n",
    "1. The number of output channels $C_{out}$ is different from the number of input channels $C_{in}$\n",
    "2. The plain block $\\mathcal{F}$ performs spatial downsampling\n",
    "\n",
    "To deal with these cases, we need generalize our definition of the residual block and add a *shortcut connection* $\\mathcal{G}$:\n",
    "\n",
    "$\\mathcal{R}(x) = \\mathcal{F}(x) + \\mathcal{G}(x)$\n",
    "\n",
    "There are three cases for the shortcut connection $\\mathcal{G}$:\n",
    "\n",
    "1. If $C_{in}=C_{out}$ and $\\mathcal{F}$ does not perform downsampling, then $\\mathcal{F}(x)$ will have the same shape as $x$, so $\\mathcal{G}$ is the identity function: $\\mathcal{G}(x) = x$\n",
    "2. If $C_{in} \\neq C_{out}$ and $\\mathcal{F}$ does not downsample, then $\\mathcal{G}$ is a 1x1 convolution with $C_out$ filters and stride 1.\n",
    "3. If $\\mathcal{F}$ downsamples, then $\\mathcal{G}$ is a 1x1 convolution with $C_{out}$ filters and stride 2.\n",
    "\n",
    "Implement the `ResidualBlock.__init__` function and run the following cell. You should see a message indicating that your implementation is correct."
   ]
  },
  {
   "cell_type": "code",
   "execution_count": 24,
   "metadata": {
    "id": "TMJ3-eI3Do3M"
   },
   "outputs": [
    {
     "name": "stdout",
     "output_type": "stream",
     "text": [
      "The output of ResidualBlock without downsampling has a *correct* dimension!\n",
      "The output of ResidualBlock with downsampling has a *correct* dimension!\n"
     ]
    }
   ],
   "source": [
    "data = torch.zeros(2, 3, 5, 6)\n",
    "# YOUR_TURN: Impelement ResidualBlock.__init__\n",
    "model = ResidualBlock(3, 10)\n",
    "if list(model(data).shape) == [2, 10, 5, 6]:\n",
    "  print('The output of ResidualBlock without downsampling has a *correct* dimension!')\n",
    "else:\n",
    "  print('The output of ResidualBlock without downsampling has an *incorrect* dimension! expected:', [2, 10, 5, 6], 'got:', list(model(data).shape))\n",
    "\n",
    "data = torch.zeros(2, 3, 5, 6)\n",
    "# YOUR_TURN: Impelement ResidualBlock.__init__\n",
    "model = ResidualBlock(3, 10, downsample=True)\n",
    "if list(model(data).shape) == [2, 10, 3, 3]:\n",
    "  print('The output of ResidualBlock with downsampling has a *correct* dimension!')\n",
    "else:\n",
    "  print('The output of ResidualBlock with downsampling has an *incorrect* dimension! expected:', [2, 10, 3, 3], 'got:', list(model(data).shape))"
   ]
  },
  {
   "cell_type": "markdown",
   "metadata": {
    "id": "wrEzQeTBvNso"
   },
   "source": [
    "## Residual stage\n",
    "\n",
    "So far, you implemented micro layers, which consists of several convolutional laters.\n",
    "To efficiently build a deep neural network, we define a macro layer by repeating the micro layers.\n",
    "\n",
    "For your convenience, we provide the implementation in `pytorch_autograd_and_nn.py`.\n",
    "\n",
    "```\n",
    "class ResNetStage(nn.Module):\n",
    "  def __init__(self, Cin, Cout, num_blocks, downsample=True,\n",
    "               block=ResidualBlock):\n",
    "    super().__init__()\n",
    "    blocks = [block(Cin, Cout, downsample)]\n",
    "    for _ in range(num_blocks - 1):\n",
    "      blocks.append(block(Cout, Cout))\n",
    "    self.net = nn.Sequential(*blocks)\n",
    "  \n",
    "  def forward(self, x):\n",
    "    return self.net(x)\n",
    "```\n",
    "\n",
    "\n"
   ]
  },
  {
   "cell_type": "code",
   "execution_count": 25,
   "metadata": {
    "id": "I21i5J3AnbhM"
   },
   "outputs": [
    {
     "name": "stdout",
     "output_type": "stream",
     "text": [
      "Plain block stage:\n",
      "ResNetStage(\n",
      "  (net): Sequential(\n",
      "    (0): PlainBlock(\n",
      "      (net): Sequential(\n",
      "        (0): BatchNorm2d(3, eps=1e-05, momentum=0.1, affine=True, track_running_stats=True)\n",
      "        (1): ReLU()\n",
      "        (2): Conv2d(3, 4, kernel_size=(3, 3), stride=(2, 2), padding=(1, 1))\n",
      "        (3): BatchNorm2d(4, eps=1e-05, momentum=0.1, affine=True, track_running_stats=True)\n",
      "        (4): ReLU()\n",
      "        (5): Conv2d(4, 4, kernel_size=(3, 3), stride=(1, 1), padding=(1, 1))\n",
      "      )\n",
      "    )\n",
      "    (1): PlainBlock(\n",
      "      (net): Sequential(\n",
      "        (0): BatchNorm2d(4, eps=1e-05, momentum=0.1, affine=True, track_running_stats=True)\n",
      "        (1): ReLU()\n",
      "        (2): Conv2d(4, 4, kernel_size=(3, 3), stride=(1, 1), padding=(1, 1))\n",
      "        (3): BatchNorm2d(4, eps=1e-05, momentum=0.1, affine=True, track_running_stats=True)\n",
      "        (4): ReLU()\n",
      "        (5): Conv2d(4, 4, kernel_size=(3, 3), stride=(1, 1), padding=(1, 1))\n",
      "      )\n",
      "    )\n",
      "  )\n",
      ")\n",
      "Residual block stage:\n",
      "ResNetStage(\n",
      "  (net): Sequential(\n",
      "    (0): ResidualBlock(\n",
      "      (block): PlainBlock(\n",
      "        (net): Sequential(\n",
      "          (0): BatchNorm2d(3, eps=1e-05, momentum=0.1, affine=True, track_running_stats=True)\n",
      "          (1): ReLU()\n",
      "          (2): Conv2d(3, 4, kernel_size=(3, 3), stride=(2, 2), padding=(1, 1))\n",
      "          (3): BatchNorm2d(4, eps=1e-05, momentum=0.1, affine=True, track_running_stats=True)\n",
      "          (4): ReLU()\n",
      "          (5): Conv2d(4, 4, kernel_size=(3, 3), stride=(1, 1), padding=(1, 1))\n",
      "        )\n",
      "      )\n",
      "      (shortcut): Conv2d(3, 4, kernel_size=(1, 1), stride=(2, 2))\n",
      "    )\n",
      "    (1): ResidualBlock(\n",
      "      (block): PlainBlock(\n",
      "        (net): Sequential(\n",
      "          (0): BatchNorm2d(4, eps=1e-05, momentum=0.1, affine=True, track_running_stats=True)\n",
      "          (1): ReLU()\n",
      "          (2): Conv2d(4, 4, kernel_size=(3, 3), stride=(1, 1), padding=(1, 1))\n",
      "          (3): BatchNorm2d(4, eps=1e-05, momentum=0.1, affine=True, track_running_stats=True)\n",
      "          (4): ReLU()\n",
      "          (5): Conv2d(4, 4, kernel_size=(3, 3), stride=(1, 1), padding=(1, 1))\n",
      "        )\n",
      "      )\n",
      "      (shortcut): Identity()\n",
      "    )\n",
      "  )\n",
      ")\n"
     ]
    }
   ],
   "source": [
    "print('Plain block stage:')\n",
    "print(ResNetStage(3, 4, 2, block=PlainBlock))\n",
    "print('Residual block stage:')\n",
    "print(ResNetStage(3, 4, 2, block=ResidualBlock))"
   ]
  },
  {
   "cell_type": "markdown",
   "metadata": {
    "id": "7l3-PNR9mlIb"
   },
   "source": [
    "## Residual stem\n",
    "\n",
    "A \"stem\" layer is required at the beginning of the network, which increases the number of channels while keeping the other dimensions.\n",
    "\n",
    "For your convenience, we provide the implementation in `pytorch_autograd_and_nn.py`.\n",
    "\n",
    "\n",
    "\n",
    "```\n",
    "class ResNetStem(nn.Module):\n",
    "  def __init__(self, Cin=3, Cout=8):\n",
    "    super().__init__()\n",
    "    layers = [\n",
    "        nn.Conv2d(Cin, Cout, kernel_size=3, padding=1, stride=1),\n",
    "        nn.ReLU(),\n",
    "    ]\n",
    "    self.net = nn.Sequential(*layers)\n",
    "    \n",
    "  def forward(self, x):\n",
    "    return self.net(x)\n",
    "```\n",
    "\n"
   ]
  },
  {
   "cell_type": "code",
   "execution_count": 26,
   "metadata": {
    "id": "UGzh0oVxm2Aw"
   },
   "outputs": [
    {
     "name": "stdout",
     "output_type": "stream",
     "text": [
      "The output of ResNetStem without downsampling has a *correct* dimension!\n"
     ]
    }
   ],
   "source": [
    "data = torch.zeros(2, 3, 5, 6)\n",
    "model = ResNetStem(3, 10)\n",
    "if list(model(data).shape) == [2, 10, 5, 6]:\n",
    "  print('The output of ResNetStem without downsampling has a *correct* dimension!')\n",
    "else:\n",
    "  print('The output of ResNetStem without downsampling has an *incorrect* dimension! expected:', [2, 10, 5, 6], 'got:', list(model(data).shape))"
   ]
  },
  {
   "cell_type": "markdown",
   "metadata": {
    "id": "QGzn4Gp_sYBp"
   },
   "source": [
    "## ResNet class\n",
    "\n",
    "Now, it is time to design the ResNet class using the blocks you implemented above!\n",
    "\n",
    "For general applicability, the class will get a dictionary of the architecture specification as an input, and parse it to build a CNN.\n",
    "\n",
    "Here we provide a couple of examples of specification;\n",
    "`networks` is a collection of pre-defined network specifications, where each can be called by `get_resnet(key)`, where key is the name of the network, e.g., `get_resnet('resnet32')` will return a ResNet with 32 layers.\n",
    "\n",
    "Each specification consists of multiple tuples which correspond to a macro block (`ResNetStage`), and the values in each tuple implies `(num_in_channels, num_out_channels, num_blocks, do_downsample)`.\n",
    "\n",
    "To avoid dependency on the size of the input, ResNet has an average pooling at the end of the convolutional part, such that the size of the input tensor to the linear layer is always `(batch_size, stage_args[-1][1])`.\n",
    "You may want to add an average pooling layer (`nn.AvgPool2d`), but it requires to know the size of the input.\n",
    "Can you relax this requirement?\n",
    "\n",
    "**Hint**: You can perform average pooling in `forward`.\n",
    "\n",
    "Implement `ResNet.__init__` and `ResNet.forward` and train it on CIFAR."
   ]
  },
  {
   "cell_type": "code",
   "execution_count": 27,
   "metadata": {
    "id": "1iOOBoSgs-0X"
   },
   "outputs": [],
   "source": [
    "# example of specifications\n",
    "networks = {\n",
    "  'plain32': {\n",
    "    'block': PlainBlock,\n",
    "    'stage_args': [\n",
    "      (8, 8, 5, False),\n",
    "      (8, 16, 5, True),\n",
    "      (16, 32, 5, True),\n",
    "    ]\n",
    "  },\n",
    "  'resnet32': {\n",
    "    'block': ResidualBlock,\n",
    "    'stage_args': [\n",
    "      (8, 8, 5, False),\n",
    "      (8, 16, 5, True),\n",
    "      (16, 32, 5, True),\n",
    "    ]\n",
    "  },\n",
    "}\n",
    "\n",
    "def get_resnet(name):\n",
    "  # YOUR_TURN: Impelement ResNet.__init__ and ResNet.forward\n",
    "  return ResNet(**networks[name])"
   ]
  },
  {
   "cell_type": "markdown",
   "metadata": {
    "id": "uqhp641H0P9Z"
   },
   "source": [
    "## Train your model!\n",
    "\n",
    "Now let's train a few epochs of plain and residual networks with 32 layers on CIFAR.\n",
    "You will see that deep non-residual networks don't converge well.\n",
    "\n",
    "**Caution: This takes a long time!**\n",
    "\n",
    "**Disclaimer: The performance of PreResNet-32 you will see here (~ 80%) would be lower than the best performance this model can achieve, because the convergence requires much more training.**"
   ]
  },
  {
   "cell_type": "code",
   "execution_count": 28,
   "metadata": {
    "id": "hRyYVBn60A58"
   },
   "outputs": [
    {
     "name": "stdout",
     "output_type": "stream",
     "text": [
      "plain32 \n",
      "\n"
     ]
    },
    {
     "name": "stdout",
     "output_type": "stream",
     "text": [
      "Epoch 0, Iteration 765, loss = 1.4185\n",
      "Checking accuracy on validation set\n",
      "Got 396 / 1000 correct (39.60)\n",
      "\n",
      "Epoch 1, Iteration 1531, loss = 1.7109\n",
      "Checking accuracy on validation set\n",
      "Got 477 / 1000 correct (47.70)\n",
      "\n",
      "Epoch 2, Iteration 2297, loss = 1.3762\n",
      "Checking accuracy on validation set\n",
      "Got 497 / 1000 correct (49.70)\n",
      "\n",
      "Epoch 3, Iteration 3063, loss = 1.0785\n",
      "Checking accuracy on validation set\n",
      "Got 481 / 1000 correct (48.10)\n",
      "\n",
      "Epoch 4, Iteration 3829, loss = 1.2248\n",
      "Checking accuracy on validation set\n",
      "Got 594 / 1000 correct (59.40)\n",
      "\n",
      "Epoch 5, Iteration 4595, loss = 1.2367\n",
      "Checking accuracy on validation set\n",
      "Got 617 / 1000 correct (61.70)\n",
      "\n",
      "lr decay from 0.01 to 0.001\n",
      "Epoch 6, Iteration 5361, loss = 0.6663\n",
      "Checking accuracy on validation set\n",
      "Got 681 / 1000 correct (68.10)\n",
      "\n",
      "Epoch 7, Iteration 6127, loss = 0.8935\n",
      "Checking accuracy on validation set\n",
      "Got 696 / 1000 correct (69.60)\n",
      "\n",
      "lr decay from 0.001 to 0.0001\n",
      "Epoch 8, Iteration 6893, loss = 0.7183\n",
      "Checking accuracy on validation set\n",
      "Got 699 / 1000 correct (69.90)\n",
      "\n",
      "Epoch 9, Iteration 7659, loss = 0.8997\n",
      "Checking accuracy on validation set\n",
      "Got 702 / 1000 correct (70.20)\n",
      "\n",
      "resnet32 \n",
      "\n",
      "Epoch 0, Iteration 765, loss = 1.1517\n",
      "Checking accuracy on validation set\n",
      "Got 570 / 1000 correct (57.00)\n",
      "\n",
      "Epoch 1, Iteration 1531, loss = 1.2566\n",
      "Checking accuracy on validation set\n",
      "Got 628 / 1000 correct (62.80)\n",
      "\n",
      "Epoch 2, Iteration 2297, loss = 0.8298\n",
      "Checking accuracy on validation set\n",
      "Got 597 / 1000 correct (59.70)\n",
      "\n",
      "Epoch 3, Iteration 3063, loss = 0.5253\n",
      "Checking accuracy on validation set\n",
      "Got 705 / 1000 correct (70.50)\n",
      "\n",
      "Epoch 4, Iteration 3829, loss = 0.7061\n",
      "Checking accuracy on validation set\n",
      "Got 729 / 1000 correct (72.90)\n",
      "\n",
      "Epoch 5, Iteration 4595, loss = 0.7034\n",
      "Checking accuracy on validation set\n",
      "Got 748 / 1000 correct (74.80)\n",
      "\n",
      "lr decay from 0.01 to 0.001\n",
      "Epoch 6, Iteration 5361, loss = 0.5530\n",
      "Checking accuracy on validation set\n",
      "Got 807 / 1000 correct (80.70)\n",
      "\n",
      "Epoch 7, Iteration 6127, loss = 0.6241\n",
      "Checking accuracy on validation set\n",
      "Got 814 / 1000 correct (81.40)\n",
      "\n",
      "lr decay from 0.001 to 0.0001\n",
      "Epoch 8, Iteration 6893, loss = 0.6718\n",
      "Checking accuracy on validation set\n",
      "Got 813 / 1000 correct (81.30)\n",
      "\n",
      "Epoch 9, Iteration 7659, loss = 0.5551\n",
      "Checking accuracy on validation set\n",
      "Got 811 / 1000 correct (81.10)\n",
      "\n"
     ]
    }
   ],
   "source": [
    "names = ['plain32', 'resnet32']\n",
    "acc_history_dict = {}\n",
    "iter_history_dict = {}\n",
    "for name in names:\n",
    "  reset_seed(0)\n",
    "  print(name, '\\n')\n",
    "  model = get_resnet(name)\n",
    "#   init_module(model)\n",
    "  \n",
    "  optimizer = optim.SGD(model.parameters(), lr=1e-2, momentum=.9, weight_decay=1e-4)\n",
    "\n",
    "  acc_history, iter_history = train_part345(model, optimizer, epochs=10, schedule=[6, 8], verbose=False)\n",
    "  acc_history_dict[name] = acc_history\n",
    "  iter_history_dict[name] = iter_history"
   ]
  },
  {
   "cell_type": "code",
   "execution_count": 29,
   "metadata": {
    "id": "-u89CIFfzWWR"
   },
   "outputs": [
    {
     "data": {
      "image/png": "[encoded data removed]",
      "text/plain": [
       "<Figure size 648x288 with 1 Axes>"
      ]
     },
     "metadata": {
      "needs_background": "light"
     },
     "output_type": "display_data"
    }
   ],
   "source": [
    "plt.title('Val accuracies')\n",
    "for name in names:\n",
    "  plt.plot(iter_history_dict[name], acc_history_dict[name], '-o')\n",
    "plt.legend(names, loc='upper left')\n",
    "plt.xlabel('iterations')\n",
    "plt.ylabel('accuracy')\n",
    "plt.gcf().set_size_inches(9, 4)\n",
    "plt.show()"
   ]
  },
  {
   "cell_type": "markdown",
   "metadata": {
    "id": "7Z31mvHGQT3y"
   },
   "source": [
    "## Residual bottleneck block\n",
    "\n",
    "A bottleneck block is often useful for better efficiency, especially when importing a model to mobile devices.\n",
    "The residual bottleneck block is similar to the standard residual block, but the plain block part has a different architecture:\n",
    "it consists of 3 convolutional layers, and the first two convolutional layers have a smaller number of channels.\n",
    "\n",
    "Here is the specification of the bottleneck block:\n",
    "\n",
    "1. Spatial Batch normalization\n",
    "2. ReLU\n",
    "3. Convolutional layer with `Cout // 4` 1x1 filters, stride 2 if downsampling; otherwise stride 1\n",
    "4. Spatial Batch normalization\n",
    "5. ReLU\n",
    "6. Convolutional layer with `Cout // 4` 3x3 filters, with zero-padding of 1\n",
    "7. Spatial Batch normalization\n",
    "8. ReLU\n",
    "9. Convolutional layer with `Cout` 1x1 filters\n",
    "\n",
    "Implement `ResidualBottleneckBlock.__init__` and don't forget to add the residual connection!"
   ]
  },
  {
   "cell_type": "code",
   "execution_count": 30,
   "metadata": {
    "id": "vqETnXH5QT37"
   },
   "outputs": [
    {
     "name": "stdout",
     "output_type": "stream",
     "text": [
      "The output of ResidualBlock without downsampling has a *correct* dimension!\n",
      "The output of ResidualBlock with downsampling has a *correct* dimension!\n"
     ]
    }
   ],
   "source": [
    "data = torch.zeros(2, 3, 5, 6)\n",
    "model = ResidualBottleneckBlock(3, 10)\n",
    "if list(model(data).shape) == [2, 10, 5, 6]:\n",
    "  print('The output of ResidualBlock without downsampling has a *correct* dimension!')\n",
    "else:\n",
    "  print('The output of ResidualBlock without downsampling has an *incorrect* dimension! expected:', [2, 10, 5, 6], 'got:', list(model(data).shape))\n",
    "\n",
    "data = torch.zeros(2, 3, 5, 6)\n",
    "model = ResidualBottleneckBlock(3, 10, downsample=True)\n",
    "if list(model(data).shape) == [2, 10, 3, 3]:\n",
    "  print('The output of ResidualBlock with downsampling has a *correct* dimension!')\n",
    "else:\n",
    "  print('The output of ResidualBlock with downsampling has an *incorrect* dimension! expected:', [2, 10, 3, 3], 'got:', list(model(data).shape))"
   ]
  },
  {
   "cell_type": "markdown",
   "metadata": {
    "id": "QnRc5hiHudMP"
   },
   "source": [
    "By running the following script, you can check the architecture of ResNet-47 with bottlenecks.\n",
    "\n",
    "Caution: it is long!"
   ]
  },
  {
   "cell_type": "code",
   "execution_count": 31,
   "metadata": {
    "id": "md6xmG-Aucrx"
   },
   "outputs": [
    {
     "name": "stdout",
     "output_type": "stream",
     "text": [
      "ResNet(\n",
      "  (cnn): Sequential(\n",
      "    (0): ResNetStem(\n",
      "      (net): Sequential(\n",
      "        (0): Conv2d(3, 32, kernel_size=(3, 3), stride=(1, 1), padding=(1, 1))\n",
      "        (1): ReLU()\n",
      "      )\n",
      "    )\n",
      "    (1): ResNetStage(\n",
      "      (net): Sequential(\n",
      "        (0): ResidualBottleneckBlock(\n",
      "          (block): Sequential(\n",
      "            (0): BatchNorm2d(32, eps=1e-05, momentum=0.1, affine=True, track_running_stats=True)\n",
      "            (1): ReLU()\n",
      "            (2): Conv2d(32, 8, kernel_size=(1, 1), stride=(1, 1))\n",
      "            (3): BatchNorm2d(8, eps=1e-05, momentum=0.1, affine=True, track_running_stats=True)\n",
      "            (4): ReLU()\n",
      "            (5): Conv2d(8, 8, kernel_size=(3, 3), stride=(1, 1), padding=(1, 1))\n",
      "            (6): BatchNorm2d(8, eps=1e-05, momentum=0.1, affine=True, track_running_stats=True)\n",
      "            (7): ReLU()\n",
      "            (8): Conv2d(8, 32, kernel_size=(1, 1), stride=(1, 1))\n",
      "          )\n",
      "          (shortcut): Identity()\n",
      "        )\n",
      "        (1): ResidualBottleneckBlock(\n",
      "          (block): Sequential(\n",
      "            (0): BatchNorm2d(32, eps=1e-05, momentum=0.1, affine=True, track_running_stats=True)\n",
      "            (1): ReLU()\n",
      "            (2): Conv2d(32, 8, kernel_size=(1, 1), stride=(1, 1))\n",
      "            (3): BatchNorm2d(8, eps=1e-05, momentum=0.1, affine=True, track_running_stats=True)\n",
      "            (4): ReLU()\n",
      "            (5): Conv2d(8, 8, kernel_size=(3, 3), stride=(1, 1), padding=(1, 1))\n",
      "            (6): BatchNorm2d(8, eps=1e-05, momentum=0.1, affine=True, track_running_stats=True)\n",
      "            (7): ReLU()\n",
      "            (8): Conv2d(8, 32, kernel_size=(1, 1), stride=(1, 1))\n",
      "          )\n",
      "          (shortcut): Identity()\n",
      "        )\n",
      "        (2): ResidualBottleneckBlock(\n",
      "          (block): Sequential(\n",
      "            (0): BatchNorm2d(32, eps=1e-05, momentum=0.1, affine=True, track_running_stats=True)\n",
      "            (1): ReLU()\n",
      "            (2): Conv2d(32, 8, kernel_size=(1, 1), stride=(1, 1))\n",
      "            (3): BatchNorm2d(8, eps=1e-05, momentum=0.1, affine=True, track_running_stats=True)\n",
      "            (4): ReLU()\n",
      "            (5): Conv2d(8, 8, kernel_size=(3, 3), stride=(1, 1), padding=(1, 1))\n",
      "            (6): BatchNorm2d(8, eps=1e-05, momentum=0.1, affine=True, track_running_stats=True)\n",
      "            (7): ReLU()\n",
      "            (8): Conv2d(8, 32, kernel_size=(1, 1), stride=(1, 1))\n",
      "          )\n",
      "          (shortcut): Identity()\n",
      "        )\n",
      "        (3): ResidualBottleneckBlock(\n",
      "          (block): Sequential(\n",
      "            (0): BatchNorm2d(32, eps=1e-05, momentum=0.1, affine=True, track_running_stats=True)\n",
      "            (1): ReLU()\n",
      "            (2): Conv2d(32, 8, kernel_size=(1, 1), stride=(1, 1))\n",
      "            (3): BatchNorm2d(8, eps=1e-05, momentum=0.1, affine=True, track_running_stats=True)\n",
      "            (4): ReLU()\n",
      "            (5): Conv2d(8, 8, kernel_size=(3, 3), stride=(1, 1), padding=(1, 1))\n",
      "            (6): BatchNorm2d(8, eps=1e-05, momentum=0.1, affine=True, track_running_stats=True)\n",
      "            (7): ReLU()\n",
      "            (8): Conv2d(8, 32, kernel_size=(1, 1), stride=(1, 1))\n",
      "          )\n",
      "          (shortcut): Identity()\n",
      "        )\n",
      "        (4): ResidualBottleneckBlock(\n",
      "          (block): Sequential(\n",
      "            (0): BatchNorm2d(32, eps=1e-05, momentum=0.1, affine=True, track_running_stats=True)\n",
      "            (1): ReLU()\n",
      "            (2): Conv2d(32, 8, kernel_size=(1, 1), stride=(1, 1))\n",
      "            (3): BatchNorm2d(8, eps=1e-05, momentum=0.1, affine=True, track_running_stats=True)\n",
      "            (4): ReLU()\n",
      "            (5): Conv2d(8, 8, kernel_size=(3, 3), stride=(1, 1), padding=(1, 1))\n",
      "            (6): BatchNorm2d(8, eps=1e-05, momentum=0.1, affine=True, track_running_stats=True)\n",
      "            (7): ReLU()\n",
      "            (8): Conv2d(8, 32, kernel_size=(1, 1), stride=(1, 1))\n",
      "          )\n",
      "          (shortcut): Identity()\n",
      "        )\n",
      "      )\n",
      "    )\n",
      "    (2): ResNetStage(\n",
      "      (net): Sequential(\n",
      "        (0): ResidualBottleneckBlock(\n",
      "          (block): Sequential(\n",
      "            (0): BatchNorm2d(32, eps=1e-05, momentum=0.1, affine=True, track_running_stats=True)\n",
      "            (1): ReLU()\n",
      "            (2): Conv2d(32, 16, kernel_size=(1, 1), stride=(2, 2))\n",
      "            (3): BatchNorm2d(16, eps=1e-05, momentum=0.1, affine=True, track_running_stats=True)\n",
      "            (4): ReLU()\n",
      "            (5): Conv2d(16, 16, kernel_size=(3, 3), stride=(1, 1), padding=(1, 1))\n",
      "            (6): BatchNorm2d(16, eps=1e-05, momentum=0.1, affine=True, track_running_stats=True)\n",
      "            (7): ReLU()\n",
      "            (8): Conv2d(16, 64, kernel_size=(1, 1), stride=(1, 1))\n",
      "          )\n",
      "          (shortcut): Conv2d(32, 64, kernel_size=(1, 1), stride=(2, 2))\n",
      "        )\n",
      "        (1): ResidualBottleneckBlock(\n",
      "          (block): Sequential(\n",
      "            (0): BatchNorm2d(64, eps=1e-05, momentum=0.1, affine=True, track_running_stats=True)\n",
      "            (1): ReLU()\n",
      "            (2): Conv2d(64, 16, kernel_size=(1, 1), stride=(1, 1))\n",
      "            (3): BatchNorm2d(16, eps=1e-05, momentum=0.1, affine=True, track_running_stats=True)\n",
      "            (4): ReLU()\n",
      "            (5): Conv2d(16, 16, kernel_size=(3, 3), stride=(1, 1), padding=(1, 1))\n",
      "            (6): BatchNorm2d(16, eps=1e-05, momentum=0.1, affine=True, track_running_stats=True)\n",
      "            (7): ReLU()\n",
      "            (8): Conv2d(16, 64, kernel_size=(1, 1), stride=(1, 1))\n",
      "          )\n",
      "          (shortcut): Identity()\n",
      "        )\n",
      "        (2): ResidualBottleneckBlock(\n",
      "          (block): Sequential(\n",
      "            (0): BatchNorm2d(64, eps=1e-05, momentum=0.1, affine=True, track_running_stats=True)\n",
      "            (1): ReLU()\n",
      "            (2): Conv2d(64, 16, kernel_size=(1, 1), stride=(1, 1))\n",
      "            (3): BatchNorm2d(16, eps=1e-05, momentum=0.1, affine=True, track_running_stats=True)\n",
      "            (4): ReLU()\n",
      "            (5): Conv2d(16, 16, kernel_size=(3, 3), stride=(1, 1), padding=(1, 1))\n",
      "            (6): BatchNorm2d(16, eps=1e-05, momentum=0.1, affine=True, track_running_stats=True)\n",
      "            (7): ReLU()\n",
      "            (8): Conv2d(16, 64, kernel_size=(1, 1), stride=(1, 1))\n",
      "          )\n",
      "          (shortcut): Identity()\n",
      "        )\n",
      "        (3): ResidualBottleneckBlock(\n",
      "          (block): Sequential(\n",
      "            (0): BatchNorm2d(64, eps=1e-05, momentum=0.1, affine=True, track_running_stats=True)\n",
      "            (1): ReLU()\n",
      "            (2): Conv2d(64, 16, kernel_size=(1, 1), stride=(1, 1))\n",
      "            (3): BatchNorm2d(16, eps=1e-05, momentum=0.1, affine=True, track_running_stats=True)\n",
      "            (4): ReLU()\n",
      "            (5): Conv2d(16, 16, kernel_size=(3, 3), stride=(1, 1), padding=(1, 1))\n",
      "            (6): BatchNorm2d(16, eps=1e-05, momentum=0.1, affine=True, track_running_stats=True)\n",
      "            (7): ReLU()\n",
      "            (8): Conv2d(16, 64, kernel_size=(1, 1), stride=(1, 1))\n",
      "          )\n",
      "          (shortcut): Identity()\n",
      "        )\n",
      "        (4): ResidualBottleneckBlock(\n",
      "          (block): Sequential(\n",
      "            (0): BatchNorm2d(64, eps=1e-05, momentum=0.1, affine=True, track_running_stats=True)\n",
      "            (1): ReLU()\n",
      "            (2): Conv2d(64, 16, kernel_size=(1, 1), stride=(1, 1))\n",
      "            (3): BatchNorm2d(16, eps=1e-05, momentum=0.1, affine=True, track_running_stats=True)\n",
      "            (4): ReLU()\n",
      "            (5): Conv2d(16, 16, kernel_size=(3, 3), stride=(1, 1), padding=(1, 1))\n",
      "            (6): BatchNorm2d(16, eps=1e-05, momentum=0.1, affine=True, track_running_stats=True)\n",
      "            (7): ReLU()\n",
      "            (8): Conv2d(16, 64, kernel_size=(1, 1), stride=(1, 1))\n",
      "          )\n",
      "          (shortcut): Identity()\n",
      "        )\n",
      "      )\n",
      "    )\n",
      "    (3): ResNetStage(\n",
      "      (net): Sequential(\n",
      "        (0): ResidualBottleneckBlock(\n",
      "          (block): Sequential(\n",
      "            (0): BatchNorm2d(64, eps=1e-05, momentum=0.1, affine=True, track_running_stats=True)\n",
      "            (1): ReLU()\n",
      "            (2): Conv2d(64, 32, kernel_size=(1, 1), stride=(2, 2))\n",
      "            (3): BatchNorm2d(32, eps=1e-05, momentum=0.1, affine=True, track_running_stats=True)\n",
      "            (4): ReLU()\n",
      "            (5): Conv2d(32, 32, kernel_size=(3, 3), stride=(1, 1), padding=(1, 1))\n",
      "            (6): BatchNorm2d(32, eps=1e-05, momentum=0.1, affine=True, track_running_stats=True)\n",
      "            (7): ReLU()\n",
      "            (8): Conv2d(32, 128, kernel_size=(1, 1), stride=(1, 1))\n",
      "          )\n",
      "          (shortcut): Conv2d(64, 128, kernel_size=(1, 1), stride=(2, 2))\n",
      "        )\n",
      "        (1): ResidualBottleneckBlock(\n",
      "          (block): Sequential(\n",
      "            (0): BatchNorm2d(128, eps=1e-05, momentum=0.1, affine=True, track_running_stats=True)\n",
      "            (1): ReLU()\n",
      "            (2): Conv2d(128, 32, kernel_size=(1, 1), stride=(1, 1))\n",
      "            (3): BatchNorm2d(32, eps=1e-05, momentum=0.1, affine=True, track_running_stats=True)\n",
      "            (4): ReLU()\n",
      "            (5): Conv2d(32, 32, kernel_size=(3, 3), stride=(1, 1), padding=(1, 1))\n",
      "            (6): BatchNorm2d(32, eps=1e-05, momentum=0.1, affine=True, track_running_stats=True)\n",
      "            (7): ReLU()\n",
      "            (8): Conv2d(32, 128, kernel_size=(1, 1), stride=(1, 1))\n",
      "          )\n",
      "          (shortcut): Identity()\n",
      "        )\n",
      "        (2): ResidualBottleneckBlock(\n",
      "          (block): Sequential(\n",
      "            (0): BatchNorm2d(128, eps=1e-05, momentum=0.1, affine=True, track_running_stats=True)\n",
      "            (1): ReLU()\n",
      "            (2): Conv2d(128, 32, kernel_size=(1, 1), stride=(1, 1))\n",
      "            (3): BatchNorm2d(32, eps=1e-05, momentum=0.1, affine=True, track_running_stats=True)\n",
      "            (4): ReLU()\n",
      "            (5): Conv2d(32, 32, kernel_size=(3, 3), stride=(1, 1), padding=(1, 1))\n",
      "            (6): BatchNorm2d(32, eps=1e-05, momentum=0.1, affine=True, track_running_stats=True)\n",
      "            (7): ReLU()\n",
      "            (8): Conv2d(32, 128, kernel_size=(1, 1), stride=(1, 1))\n",
      "          )\n",
      "          (shortcut): Identity()\n",
      "        )\n",
      "        (3): ResidualBottleneckBlock(\n",
      "          (block): Sequential(\n",
      "            (0): BatchNorm2d(128, eps=1e-05, momentum=0.1, affine=True, track_running_stats=True)\n",
      "            (1): ReLU()\n",
      "            (2): Conv2d(128, 32, kernel_size=(1, 1), stride=(1, 1))\n",
      "            (3): BatchNorm2d(32, eps=1e-05, momentum=0.1, affine=True, track_running_stats=True)\n",
      "            (4): ReLU()\n",
      "            (5): Conv2d(32, 32, kernel_size=(3, 3), stride=(1, 1), padding=(1, 1))\n",
      "            (6): BatchNorm2d(32, eps=1e-05, momentum=0.1, affine=True, track_running_stats=True)\n",
      "            (7): ReLU()\n",
      "            (8): Conv2d(32, 128, kernel_size=(1, 1), stride=(1, 1))\n",
      "          )\n",
      "          (shortcut): Identity()\n",
      "        )\n",
      "        (4): ResidualBottleneckBlock(\n",
      "          (block): Sequential(\n",
      "            (0): BatchNorm2d(128, eps=1e-05, momentum=0.1, affine=True, track_running_stats=True)\n",
      "            (1): ReLU()\n",
      "            (2): Conv2d(128, 32, kernel_size=(1, 1), stride=(1, 1))\n",
      "            (3): BatchNorm2d(32, eps=1e-05, momentum=0.1, affine=True, track_running_stats=True)\n",
      "            (4): ReLU()\n",
      "            (5): Conv2d(32, 32, kernel_size=(3, 3), stride=(1, 1), padding=(1, 1))\n",
      "            (6): BatchNorm2d(32, eps=1e-05, momentum=0.1, affine=True, track_running_stats=True)\n",
      "            (7): ReLU()\n",
      "            (8): Conv2d(32, 128, kernel_size=(1, 1), stride=(1, 1))\n",
      "          )\n",
      "          (shortcut): Identity()\n",
      "        )\n",
      "      )\n",
      "    )\n",
      "  )\n",
      "  (fc): Linear(in_features=128, out_features=10, bias=True)\n",
      ")\n"
     ]
    }
   ],
   "source": [
    "# example of specification\n",
    "networks.update({\n",
    "  'resnet47': {\n",
    "    'block': ResidualBottleneckBlock,\n",
    "    'stage_args': [\n",
    "      (32, 32, 5, False),\n",
    "      (32, 64, 5, True),\n",
    "      (64, 128, 5, True),\n",
    "    ],\n",
    "  },\n",
    "})\n",
    "\n",
    "print(get_resnet('resnet47'))"
   ]
  },
  {
   "cell_type": "markdown",
   "metadata": {
    "id": "f8jUGXtx8DI_"
   },
   "source": [
    "# Final checks\n",
    "Make sure you run \"Runtime -> Restart and run all...\" to double check PyTorch Autograd and NN before submitting."
   ]
  },
  {
   "cell_type": "markdown",
   "metadata": {
    "id": "OaEWseW9Vo5a"
   },
   "source": [
    "# Save results\n",
    "\n",
    "Once all the cells are completed, save the loss history of all the parts for submission."
   ]
  },
  {
   "cell_type": "code",
   "execution_count": 32,
   "metadata": {
    "id": "T-3b0miHWBqL"
   },
   "outputs": [],
   "source": [
    "acc_history_dict['acc_hist_part2'] = acc_hist_part2 \n",
    "acc_history_dict['acc_hist_part3'] = acc_hist_part3 \n",
    "acc_history_dict['acc_hist_part4'] = acc_hist_part4 \n",
    "submission_path = os.path.join('/home/yujiangrui/projects/eecs498/A5', 'pytorch_autograd_and_nn.pkl')\n",
    "dump_results(acc_history_dict, submission_path)"
   ]
  }
 ],
 "metadata": {
  "accelerator": "GPU",
  "colab": {
   "collapsed_sections": [],
   "name": "pytorch_autograd_and_nn.ipynb",
   "provenance": []
  },
  "kernelspec": {
   "display_name": "Python 3",
   "name": "python3"
  },
  "language_info": {
   "codemirror_mode": {
    "name": "ipython",
    "version": 3
   },
   "file_extension": ".py",
   "mimetype": "text/x-python",
   "name": "python",
   "nbconvert_exporter": "python",
   "pygments_lexer": "ipython3",
   "version": "3.6.13"
  },
  "toc": {
   "nav_menu": {},
   "number_sections": true,
   "sideBar": true,
   "skip_h1_title": false,
   "toc_cell": false,
   "toc_position": {},
   "toc_section_display": "block",
   "toc_window_display": false
  },
  "varInspector": {
   "cols": {
    "lenName": 16,
    "lenType": 16,
    "lenVar": 40
   },
   "kernels_config": {
    "python": {
     "delete_cmd_postfix": "",
     "delete_cmd_prefix": "del ",
     "library": "var_list.py",
     "varRefreshCmd": "print(var_dic_list())"
    },
    "r": {
     "delete_cmd_postfix": ") ",
     "delete_cmd_prefix": "rm(",
     "library": "var_list.r",
     "varRefreshCmd": "cat(var_dic_list()) "
    }
   },
   "types_to_exclude": [
    "module",
    "function",
    "builtin_function_or_method",
    "instance",
    "_Feature"
   ],
   "window_display": false
  }
 },
 "nbformat": 4,
 "nbformat_minor": 0
}
